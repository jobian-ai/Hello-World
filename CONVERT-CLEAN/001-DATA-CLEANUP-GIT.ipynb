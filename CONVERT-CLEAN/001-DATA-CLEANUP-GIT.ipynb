{
 "cells": [
  {
   "cell_type": "markdown",
   "metadata": {},
   "source": [
    "# Working with a Directory of .CSV files\n",
    "- I want to manipulate all the files in a similar way\n",
    "- I want to add the filename of each file I am cleaning as a column so I can find which file the data came from later."
   ]
  },
  {
   "cell_type": "code",
   "execution_count": null,
   "metadata": {},
   "outputs": [],
   "source": [
    "# import some modules\n",
    "import os\n",
    "import os.path\n",
    "import pandas as pd\n",
    "import sqlite3\n",
    "import numpy as np\n",
    "import glob\n",
    "import csv"
   ]
  },
  {
   "cell_type": "markdown",
   "metadata": {},
   "source": [
    "## List out the files in the directory."
   ]
  },
  {
   "cell_type": "code",
   "execution_count": null,
   "metadata": {},
   "outputs": [],
   "source": [
    "mypath=r\"C:\\Users\\CHUGHES\\Documents\\PROJECTS\\Python\\001-NCC\\DATA\\2017\\CSV\"\n",
    "myfilelist = os.listdir(mypath)\n",
    "for f in myfilelist:\n",
    "    print(f)"
   ]
  },
  {
   "cell_type": "markdown",
   "metadata": {},
   "source": [
    "## There is an issue with getting a trailing slash on the path"
   ]
  },
  {
   "cell_type": "code",
   "execution_count": null,
   "metadata": {},
   "outputs": [],
   "source": [
    "dbconn = sqlite3.connect('ncc.db')\n",
    "print(dbconn)"
   ]
  },
  {
   "cell_type": "code",
   "execution_count": null,
   "metadata": {},
   "outputs": [],
   "source": [
    "cursor = dbconn.cursor()\n",
    "cursor"
   ]
  },
  {
   "cell_type": "code",
   "execution_count": null,
   "metadata": {},
   "outputs": [],
   "source": [
    "mypath"
   ]
  },
  {
   "cell_type": "code",
   "execution_count": null,
   "metadata": {},
   "outputs": [],
   "source": [
    "mypath = os.path.join(mypath, '') # adds the needed slash on the end so the below will work\n",
    "mypath"
   ]
  },
  {
   "cell_type": "markdown",
   "metadata": {},
   "source": [
    "### Below states the headers I want for each column"
   ]
  },
  {
   "cell_type": "code",
   "execution_count": null,
   "metadata": {},
   "outputs": [],
   "source": [
    "header = {0:\"OFFICE\",1:\"LNAME\",2:\"FNAME\",3:\"MNAME\",4:\"ONAME\",46:\"NOTES\"}\n",
    "header"
   ]
  },
  {
   "cell_type": "markdown",
   "metadata": {},
   "source": [
    "## Below makes a variable with all the file names to iterate through"
   ]
  },
  {
   "cell_type": "code",
   "execution_count": null,
   "metadata": {},
   "outputs": [],
   "source": [
    "all_files = glob.glob(mypath + \"*.csv\")"
   ]
  },
  {
   "cell_type": "code",
   "execution_count": null,
   "metadata": {},
   "outputs": [],
   "source": [
    "header"
   ]
  },
  {
   "cell_type": "markdown",
   "metadata": {},
   "source": [
    "### Below reads in each file, removes blank lines in it and writes it back to the os. Should only have to run this block once."
   ]
  },
  {
   "cell_type": "code",
   "execution_count": null,
   "metadata": {},
   "outputs": [],
   "source": [
    "for filename in all_files:\n",
    "    df = pd.read_csv(filename)\n",
    "    df.dropna(how=\"all\", inplace=True)\n",
    "    df.rename(columns = header, inplace=True)\n",
    "    df.to_csv(filename, index=False)"
   ]
  },
  {
   "cell_type": "markdown",
   "metadata": {},
   "source": [
    "## Below reads in each file, replaces the header, Adds the filename as a column."
   ]
  },
  {
   "cell_type": "code",
   "execution_count": null,
   "metadata": {},
   "outputs": [],
   "source": [
    "df = pd.concat((pd.read_csv(f,\n",
    "                                   skiprows=1,\n",
    "                                   header=None,\n",
    "                                   index_col=None,\n",
    "                                   skip_blank_lines=True,\n",
    "                                   usecols = [0,1,2,3,4,46],\n",
    "                        ).assign(FILENAME=os.path.basename(f))\n",
    "                            for f in glob.glob(os.path.join(mypath, '*.csv'))\n",
    "                       ),\n",
    "                       ignore_index=True)\n",
    "df.rename(columns = header, inplace=True)"
   ]
  },
  {
   "cell_type": "markdown",
   "metadata": {},
   "source": [
    "## IMPORT the dataframe into the database"
   ]
  },
  {
   "cell_type": "code",
   "execution_count": null,
   "metadata": {},
   "outputs": [],
   "source": [
    "df.to_sql('TEST',con = dbconn, if_exists='append', index=False)"
   ]
  },
  {
   "cell_type": "markdown",
   "metadata": {},
   "source": [
    "# BELOW HERE ARE COMMANDS TO SET UP / MAINTAIN THE DB"
   ]
  },
  {
   "cell_type": "code",
   "execution_count": null,
   "metadata": {},
   "outputs": [],
   "source": [
    "dropTableStatement = \"DROP TABLE TEST\"\n",
    "\n",
    "cursor.execute(dropTableStatement)\n",
    "\n",
    "dbconn.commit()"
   ]
  }
 ],
 "metadata": {
  "interpreter": {
   "hash": "3ee07828cb95c6b5b1c8f5e8792024b55c7b92ed3d39e640de503f3abd63df5f"
  },
  "kernelspec": {
   "display_name": "Python 3.9.7 64-bit",
   "name": "python3"
  },
  "language_info": {
   "codemirror_mode": {
    "name": "ipython",
    "version": 3
   },
   "file_extension": ".py",
   "mimetype": "text/x-python",
   "name": "python",
   "nbconvert_exporter": "python",
   "pygments_lexer": "ipython3",
   "version": "3.9.7"
  },
  "orig_nbformat": 4
 },
 "nbformat": 4,
 "nbformat_minor": 2
}
