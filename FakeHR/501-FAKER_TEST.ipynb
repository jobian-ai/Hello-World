{
 "cells": [
  {
   "cell_type": "markdown",
   "metadata": {},
   "source": [
    "# Generate a Fake bunch of \"Workers\""
   ]
  },
  {
   "cell_type": "code",
   "execution_count": null,
   "metadata": {},
   "outputs": [],
   "source": [
    "from faker import Faker\n",
    "import sqlite3\n",
    "import pandas as pd\n",
    "import numpy as np\n",
    "from datetime import datetime, date, timedelta\n",
    "from dateutil.relativedelta import relativedelta\n",
    "import random"
   ]
  },
  {
   "cell_type": "markdown",
   "metadata": {},
   "source": [
    "___"
   ]
  },
  {
   "cell_type": "markdown",
   "metadata": {},
   "source": [
    "### Connect to the Database"
   ]
  },
  {
   "cell_type": "code",
   "execution_count": null,
   "metadata": {},
   "outputs": [],
   "source": [
    "dbconn = sqlite3.connect('FakeHR.db') # permanent database\n",
    "print(dbconn) # Check the connection to the database."
   ]
  },
  {
   "cell_type": "code",
   "execution_count": null,
   "metadata": {},
   "outputs": [],
   "source": [
    "cursor = dbconn.cursor()\n",
    "cursor"
   ]
  },
  {
   "cell_type": "markdown",
   "metadata": {},
   "source": [
    "___"
   ]
  },
  {
   "cell_type": "markdown",
   "metadata": {},
   "source": [
    "### Working with the FAKER"
   ]
  },
  {
   "cell_type": "code",
   "execution_count": null,
   "metadata": {},
   "outputs": [],
   "source": [
    "# initialize a generator\n",
    "fake = Faker()"
   ]
  },
  {
   "cell_type": "markdown",
   "metadata": {},
   "source": [
    "___"
   ]
  },
  {
   "cell_type": "markdown",
   "metadata": {},
   "source": [
    "### Wanted realistic On Board (OBD) & Date of Birth (DOB).\n",
    "\n",
    "(Source for Below)[https://www.tonic.ai/blog/how-to-generate-simple-test-data-with-faker]"
   ]
  },
  {
   "cell_type": "code",
   "execution_count": null,
   "metadata": {},
   "outputs": [],
   "source": [
    "def birth_and_start_date(x):\n",
    "   sd = fake.date_between(start_date=\"-30y\", end_date=\"now\")\n",
    "   delta = timedelta(days=365*random.randint(22,52))\n",
    "   bd = sd-delta\n",
    "\n",
    "   return {'DOB':bd, 'OBD': sd}"
   ]
  },
  {
   "cell_type": "code",
   "execution_count": null,
   "metadata": {},
   "outputs": [],
   "source": [
    "d = dict()\n",
    "d['birth_and_start_date'] = birth_and_start_date"
   ]
  },
  {
   "cell_type": "code",
   "execution_count": null,
   "metadata": {},
   "outputs": [],
   "source": [
    "# will error if def birth_and_start_date(x): has the 'x' in the parens\n",
    "# [d[k]() for k in d.keys()] "
   ]
  },
  {
   "cell_type": "code",
   "execution_count": null,
   "metadata": {},
   "outputs": [],
   "source": [
    "# df = pd.DataFrame(np.random.randint(100,size=(1000, 3)),columns=['A','B','C'])\n",
    "# df[['DOB', 'OBD']] = df.apply(birth_and_start_date, axis=1, result_type ='expand')"
   ]
  },
  {
   "cell_type": "code",
   "execution_count": null,
   "metadata": {},
   "outputs": [],
   "source": [
    "# d['first_name'] = lambda: {'first_name':fake.first_name_male()}\n",
    "# d['middle_name'] = lambda: {'middle_name':fake.first_name_male()}\n",
    "# d['last_name'] = lambda: {'last_name':fake.last_name()}\n",
    "# d['ssn'] = lambda: {'ssn':fake.ssn()}\n",
    "# d['birth_and_start_date'] = birth_and_start_date"
   ]
  },
  {
   "cell_type": "code",
   "execution_count": null,
   "metadata": {},
   "outputs": [],
   "source": [
    "# for _ in range(5):\n",
    "#    r=[d[k]() for k in d.keys()]\n",
    "#    print(r)"
   ]
  },
  {
   "cell_type": "code",
   "execution_count": null,
   "metadata": {},
   "outputs": [],
   "source": [
    "# for _ in range(5):\n",
    "#    deep_list = [list(d[k]().values()) for k in d.keys()]\n",
    "#    row = [item for sublist in deep_list for item in sublist]\n",
    "#    print(row)"
   ]
  },
  {
   "cell_type": "markdown",
   "metadata": {},
   "source": [
    "___"
   ]
  },
  {
   "cell_type": "markdown",
   "metadata": {},
   "source": [
    "### Creating the list of MALE \"workers\""
   ]
  },
  {
   "cell_type": "code",
   "execution_count": null,
   "metadata": {},
   "outputs": [],
   "source": [
    "fake_gents = [\n",
    "{'MALE_FN': fake.first_name_male(), 'MALE_MN': fake.first_name_male(), 'MALE_LN': fake.last_name_male(),\n",
    "# 'DOB':fake.date_between(start_date='-65y', end_date='-18y'),\n",
    "# 'OBD':fake.date_between(start_date='-25y', end_date='-1M'),\n",
    "'SSN':fake.ssn()}\n",
    "for _ in range(500)]"
   ]
  },
  {
   "cell_type": "markdown",
   "metadata": {},
   "source": [
    "## CONVERT A LIST TO A DATAFRAME"
   ]
  },
  {
   "cell_type": "code",
   "execution_count": null,
   "metadata": {},
   "outputs": [],
   "source": [
    "df = pd.DataFrame(fake_gents)"
   ]
  },
  {
   "cell_type": "code",
   "execution_count": null,
   "metadata": {},
   "outputs": [],
   "source": [
    "df.dtypes"
   ]
  },
  {
   "cell_type": "markdown",
   "metadata": {},
   "source": [
    "(Multiple column help)[https://www.pauldesalvo.com/how-to-return-multiple-columns-from-pandas-using-the-apply-function/]"
   ]
  },
  {
   "cell_type": "code",
   "execution_count": null,
   "metadata": {},
   "outputs": [],
   "source": [
    "df[['DOB', 'OBD']] = df.apply(birth_and_start_date, axis=1, result_type ='expand')"
   ]
  },
  {
   "cell_type": "markdown",
   "metadata": {},
   "source": [
    "### Join (concat) the names and stip the middle name to just the middle initial"
   ]
  },
  {
   "cell_type": "code",
   "execution_count": null,
   "metadata": {},
   "outputs": [],
   "source": [
    "df['FULL_NAME'] = df['MALE_LN'] + (', ' + df['MALE_FN'])  + (' '+ df['MALE_MN'].str[0])\n"
   ]
  },
  {
   "cell_type": "code",
   "execution_count": null,
   "metadata": {},
   "outputs": [],
   "source": [
    "df['EMAIL'] = df['MALE_FN'].str[0] + (df['MALE_LN'] + ('@FEDERAL.GOV'))\n",
    "df['EMAIL'] = df['EMAIL'].str.lower()"
   ]
  },
  {
   "cell_type": "code",
   "execution_count": null,
   "metadata": {},
   "outputs": [],
   "source": [
    "df['SEX'] = ('M')"
   ]
  },
  {
   "cell_type": "code",
   "execution_count": null,
   "metadata": {},
   "outputs": [],
   "source": [
    "df.sort_values(by=['OBD'], inplace=True)"
   ]
  },
  {
   "cell_type": "code",
   "execution_count": null,
   "metadata": {},
   "outputs": [],
   "source": [
    "df['OBD']= pd.to_datetime(df['OBD']) # This line converts the string 'date' to a real datetime\n",
    "df['OBD']= df['OBD'].dt.date # This line strips the time data off and leave just a date\n",
    "df['DOB']= pd.to_datetime(df['DOB']) # This line converts the string 'date' to a real datetime\n",
    "df['DOB']= df['DOB'].dt.date # This line strips the time data off and leave just a date\n",
    "df.head(5)"
   ]
  },
  {
   "cell_type": "code",
   "execution_count": null,
   "metadata": {},
   "outputs": [],
   "source": [
    "df['EMAIL'].is_unique "
   ]
  },
  {
   "cell_type": "code",
   "execution_count": null,
   "metadata": {},
   "outputs": [],
   "source": [
    "df['SSN'].is_unique "
   ]
  },
  {
   "cell_type": "markdown",
   "metadata": {},
   "source": [
    "___"
   ]
  },
  {
   "cell_type": "markdown",
   "metadata": {},
   "source": [
    "### Creating the Female \"workers\""
   ]
  },
  {
   "cell_type": "code",
   "execution_count": null,
   "metadata": {},
   "outputs": [],
   "source": [
    "fake_ladies = [\n",
    "{'FEMALE_FN': fake.first_name_female(), 'FEMALE_MN': fake.first_name_female(), 'FEMALE_LN': fake.last_name_female(),\n",
    "# 'DOB':fake.date_between(start_date='-65y', end_date='-18y'),\n",
    "# 'OBD':fake.date_between(start_date='-25y', end_date='-1M'),\n",
    "'SSN':fake.ssn()}\n",
    "for _ in range(500)]"
   ]
  },
  {
   "cell_type": "code",
   "execution_count": null,
   "metadata": {},
   "outputs": [],
   "source": [
    "df2 = pd.DataFrame(fake_ladies)"
   ]
  },
  {
   "cell_type": "code",
   "execution_count": null,
   "metadata": {},
   "outputs": [],
   "source": [
    "df2[['DOB', 'OBD']] = df2.apply(birth_and_start_date, axis=1, result_type ='expand')"
   ]
  },
  {
   "cell_type": "code",
   "execution_count": null,
   "metadata": {},
   "outputs": [],
   "source": [
    "df2['FULL_NAME'] = df2['FEMALE_LN'] + (', ' + df2['FEMALE_FN'])  + (' '+ df2['FEMALE_MN'].str[0])\n",
    "df2['EMAIL'] = df2['FEMALE_FN'].str[0] + (df2['FEMALE_LN'] + ('@FEDERAL.GOV'))\n",
    "df2['EMAIL'] = df2['EMAIL'].str.lower()\n",
    "df2['SEX'] = ('F')\n"
   ]
  },
  {
   "cell_type": "code",
   "execution_count": null,
   "metadata": {},
   "outputs": [],
   "source": [
    "df2.sort_values(by=['OBD'], inplace=True)"
   ]
  },
  {
   "cell_type": "code",
   "execution_count": null,
   "metadata": {},
   "outputs": [],
   "source": [
    "df2['OBD']= pd.to_datetime(df2['OBD']) # This line converts the string 'date' to a real datetime\n",
    "df2['OBD']= df2['OBD'].dt.date # This line strips the time data off and leave just a date\n",
    "df2['DOB']= pd.to_datetime(df2['DOB']) # This line converts the string 'date' to a real datetime\n",
    "df2['DOB']= df2['DOB'].dt.date # This line strips the time data off and leave just a date\n",
    "df2.head(5)"
   ]
  },
  {
   "cell_type": "markdown",
   "metadata": {},
   "source": [
    "Renaming the columns so the injest does not fail."
   ]
  },
  {
   "cell_type": "code",
   "execution_count": null,
   "metadata": {},
   "outputs": [],
   "source": [
    "df = df.rename(columns={\"MALE_FN\":\"FNAME\", \"MALE_MN\":\"MNAME\",\"MALE_LN\":\"LNAME\"})\n",
    "df2 = df2.rename(columns={\"FEMALE_FN\":\"FNAME\", \"FEMALE_MN\":\"MNAME\",\"FEMALE_LN\":\"LNAME\"})"
   ]
  },
  {
   "cell_type": "markdown",
   "metadata": {},
   "source": [
    "___"
   ]
  },
  {
   "cell_type": "code",
   "execution_count": null,
   "metadata": {},
   "outputs": [],
   "source": [
    "df.to_sql('tmp_FAKER', dbconn, index=0, if_exists='replace') # injesting the first (Male) dataframe"
   ]
  },
  {
   "cell_type": "code",
   "execution_count": null,
   "metadata": {},
   "outputs": [],
   "source": [
    "df2.to_sql('tmp_FAKER', dbconn, index=0, if_exists='append') # injesting the sencond df (female)"
   ]
  },
  {
   "cell_type": "markdown",
   "metadata": {},
   "source": [
    "___"
   ]
  },
  {
   "cell_type": "markdown",
   "metadata": {},
   "source": [
    "Housekeeping:"
   ]
  },
  {
   "cell_type": "code",
   "execution_count": null,
   "metadata": {},
   "outputs": [],
   "source": [
    "cursor = dbconn.cursor()\n",
    "cursor.execute('''DROP TABLE tmp_FAKER''')\n",
    "# cursor.execute('''DROP TABLE tmp_FAKERM''')\n",
    "# cursor.execute('''DROP TABLE tmp_FAKERF''')\n",
    "dbconn.commit()"
   ]
  },
  {
   "cell_type": "markdown",
   "metadata": {},
   "source": [
    "___"
   ]
  },
  {
   "cell_type": "markdown",
   "metadata": {},
   "source": [
    "Read all the 'workers' back into a dataframe."
   ]
  },
  {
   "cell_type": "code",
   "execution_count": null,
   "metadata": {},
   "outputs": [],
   "source": [
    "df3 = pd.read_sql_query('select * FROM tmp_FAKER', dbconn)\n",
    "df3.head(5)"
   ]
  },
  {
   "cell_type": "markdown",
   "metadata": {},
   "source": [
    "Getting ready to sort all by their OBD so that the ECI will makes sense, initially."
   ]
  },
  {
   "cell_type": "code",
   "execution_count": null,
   "metadata": {},
   "outputs": [],
   "source": [
    "df3['OBD']= pd.to_datetime(df3['OBD']) # This line converts the string 'date' to a real datetime\n",
    "df3['OBD']= df3['OBD'].dt.date # This line strips the time data off and leave just a date"
   ]
  },
  {
   "cell_type": "code",
   "execution_count": null,
   "metadata": {},
   "outputs": [],
   "source": [
    "df3.dtypes"
   ]
  },
  {
   "cell_type": "markdown",
   "metadata": {},
   "source": [
    "### Sorting everything after mixing MALES with FEMALES"
   ]
  },
  {
   "cell_type": "code",
   "execution_count": null,
   "metadata": {},
   "outputs": [],
   "source": [
    "df3.sort_values(by=['OBD'], inplace=True)\n",
    "df3.head(12)"
   ]
  },
  {
   "cell_type": "markdown",
   "metadata": {},
   "source": [
    "### Checking for duplicate emails"
   ]
  },
  {
   "cell_type": "code",
   "execution_count": null,
   "metadata": {},
   "outputs": [],
   "source": [
    "df_dupes = pd.read_sql_query('SELECT *, COUNT(EMAIL) FROM tmp_FAKER GROUP BY EMAIL HAVING COUNT(EMAIL)>1;', dbconn)\n",
    "df_dupes.head(35)"
   ]
  },
  {
   "cell_type": "markdown",
   "metadata": {},
   "source": [
    "### Dropping the duplicate emails."
   ]
  },
  {
   "cell_type": "code",
   "execution_count": null,
   "metadata": {},
   "outputs": [],
   "source": [
    "df3 = df3.drop_duplicates(subset='EMAIL', keep=\"first\")\n",
    "df3.shape"
   ]
  },
  {
   "cell_type": "markdown",
   "metadata": {},
   "source": [
    "### Dropping and recreating the tables with the mixed and deduped data."
   ]
  },
  {
   "cell_type": "code",
   "execution_count": null,
   "metadata": {},
   "outputs": [],
   "source": [
    "cursor = dbconn.cursor()\n",
    "cursor.execute('''DROP TABLE tmp_FAKER''')\n",
    "# cursor.execute('''DROP TABLE tmp_FAKERM''')\n",
    "# cursor.execute('''DROP TABLE tmp_FAKERF''')\n",
    "dbconn.commit()"
   ]
  },
  {
   "cell_type": "code",
   "execution_count": null,
   "metadata": {},
   "outputs": [],
   "source": [
    "df3.to_sql('tmp_FAKER', dbconn, index=0, if_exists='replace')"
   ]
  },
  {
   "cell_type": "markdown",
   "metadata": {},
   "source": [
    "### Wanted to do some time calculations:\n",
    "\n",
    "Seeing who has been will 'the Agency' the longest, etc.\n",
    "\n",
    "Situation where 'worker' is 20 years old but has 24 years of service."
   ]
  },
  {
   "cell_type": "markdown",
   "metadata": {},
   "source": [
    "This is a function to calculate the age of the 'Worker'\n",
    "But I had to convert it back to a datetime first"
   ]
  },
  {
   "cell_type": "code",
   "execution_count": null,
   "metadata": {},
   "outputs": [],
   "source": [
    "df3['DOB']= pd.to_datetime(df3['DOB'])\n",
    "df3['OBD']= pd.to_datetime(df3['OBD'])"
   ]
  },
  {
   "cell_type": "code",
   "execution_count": null,
   "metadata": {},
   "outputs": [],
   "source": [
    "current_datetime = datetime.now()\n",
    "dt = current_datetime.date()\n",
    "dt_tomorrow = dt + timedelta(days=1)\n",
    "dt"
   ]
  },
  {
   "cell_type": "code",
   "execution_count": null,
   "metadata": {},
   "outputs": [],
   "source": [
    "dt_tomorrow"
   ]
  },
  {
   "cell_type": "code",
   "execution_count": null,
   "metadata": {},
   "outputs": [],
   "source": [
    "# def f(end):\n",
    "#     r = relativedelta(pd.to_datetime('now'), end) \n",
    "#     return '{} years {} days'.format(r.years, r.days)\n",
    "\n",
    "def f(end):\n",
    "    # r = relativedelta(pd.to_datetime('now'), end) \n",
    "    r = relativedelta(pd.to_datetime(dt_tomorrow), end) \n",
    "    # return '{} years' .format(r.years)  # This line adds the word \"years\" into the field.\n",
    "    return '{}' .format(r.years)"
   ]
  },
  {
   "cell_type": "code",
   "execution_count": null,
   "metadata": {},
   "outputs": [],
   "source": [
    "df3['AGE'] = df3[\"DOB\"].apply(f)"
   ]
  },
  {
   "cell_type": "code",
   "execution_count": null,
   "metadata": {},
   "outputs": [],
   "source": [
    "df3['SERVICE_TIME'] = df3[\"OBD\"].apply(f)"
   ]
  },
  {
   "cell_type": "markdown",
   "metadata": {},
   "source": [
    "Converting the df back to just a Date for injest into db."
   ]
  },
  {
   "cell_type": "code",
   "execution_count": null,
   "metadata": {},
   "outputs": [],
   "source": [
    "df3['OBD']= pd.to_datetime(df3['OBD']) # This line converts the string 'date' to a real datetime\n",
    "df3['OBD']= df3['OBD'].dt.date # This line strips the time data off and leave just a date\n",
    "df3['DOB']= pd.to_datetime(df3['DOB']) # This line converts the string 'date' to a real datetime\n",
    "df3['DOB']= df3['DOB'].dt.date # This line strips the time data off and leave just a date"
   ]
  }
 ],
 "metadata": {
  "interpreter": {
   "hash": "921337e9677d4819cc9eb0348f771bf44f64a0fc5b35fcc5030fc25cab691dce"
  },
  "kernelspec": {
   "display_name": "Python 3.10.2 ('venv': venv)",
   "language": "python",
   "name": "python3"
  },
  "language_info": {
   "codemirror_mode": {
    "name": "ipython",
    "version": 3
   },
   "file_extension": ".py",
   "mimetype": "text/x-python",
   "name": "python",
   "nbconvert_exporter": "python",
   "pygments_lexer": "ipython3",
   "version": "3.10.2"
  },
  "orig_nbformat": 4
 },
 "nbformat": 4,
 "nbformat_minor": 2
}
