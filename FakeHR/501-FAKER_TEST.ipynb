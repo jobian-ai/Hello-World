{
 "cells": [
  {
   "cell_type": "markdown",
   "metadata": {},
   "source": [
    "# Generate a Fake bunch of \"Workers\""
   ]
  },
  {
   "cell_type": "code",
   "execution_count": 1,
   "metadata": {},
   "outputs": [],
   "source": [
    "from faker import Faker\n",
    "import sqlite3\n",
    "import pandas as pd\n",
    "import numpy as np\n",
    "from datetime import datetime, date, timedelta\n",
    "from dateutil.relativedelta import relativedelta\n",
    "import random"
   ]
  },
  {
   "cell_type": "markdown",
   "metadata": {},
   "source": [
    "___"
   ]
  },
  {
   "cell_type": "markdown",
   "metadata": {},
   "source": [
    "### Connect to the Database"
   ]
  },
  {
   "cell_type": "code",
   "execution_count": 2,
   "metadata": {},
   "outputs": [
    {
     "name": "stdout",
     "output_type": "stream",
     "text": [
      "<sqlite3.Connection object at 0x7fe1358fa040>\n"
     ]
    }
   ],
   "source": [
    "dbconn = sqlite3.connect('FakeHR.db') # permanent database\n",
    "print(dbconn) # Check the connection to the database."
   ]
  },
  {
   "cell_type": "code",
   "execution_count": 3,
   "metadata": {},
   "outputs": [
    {
     "data": {
      "text/plain": [
       "<sqlite3.Cursor at 0x7fe1359a1d40>"
      ]
     },
     "execution_count": 3,
     "metadata": {},
     "output_type": "execute_result"
    }
   ],
   "source": [
    "cursor = dbconn.cursor()\n",
    "cursor"
   ]
  },
  {
   "cell_type": "markdown",
   "metadata": {},
   "source": [
    "___"
   ]
  },
  {
   "cell_type": "markdown",
   "metadata": {},
   "source": [
    "### Working with the FAKER"
   ]
  },
  {
   "cell_type": "code",
   "execution_count": 4,
   "metadata": {},
   "outputs": [],
   "source": [
    "# initialize a generator\n",
    "fake = Faker()"
   ]
  },
  {
   "cell_type": "markdown",
   "metadata": {},
   "source": [
    "___"
   ]
  },
  {
   "cell_type": "markdown",
   "metadata": {},
   "source": [
    "### Wanted realistic On Board (OBD) & Date of Birth (DOB).\n",
    "\n",
    "(Source for Below)[https://www.tonic.ai/blog/how-to-generate-simple-test-data-with-faker]"
   ]
  },
  {
   "cell_type": "code",
   "execution_count": 52,
   "metadata": {},
   "outputs": [],
   "source": [
    "def birth_and_start_date(x):\n",
    "   sd = fake.date_between(start_date=\"-30y\", end_date=\"now\")\n",
    "   delta = timedelta(days=365*random.randint(22,52))\n",
    "   bd = sd-delta\n",
    "\n",
    "   return {'DOB':bd, 'OBD': sd}"
   ]
  },
  {
   "cell_type": "code",
   "execution_count": 53,
   "metadata": {},
   "outputs": [],
   "source": [
    "d = dict()\n",
    "d['birth_and_start_date'] = birth_and_start_date"
   ]
  },
  {
   "cell_type": "code",
   "execution_count": null,
   "metadata": {},
   "outputs": [],
   "source": [
    "# will error if def birth_and_start_date(x): has the 'x' in the parens\n",
    "# [d[k]() for k in d.keys()] "
   ]
  },
  {
   "cell_type": "code",
   "execution_count": null,
   "metadata": {},
   "outputs": [],
   "source": [
    "# df = pd.DataFrame(np.random.randint(100,size=(1000, 3)),columns=['A','B','C'])\n",
    "# df[['DOB', 'OBD']] = df.apply(birth_and_start_date, axis=1, result_type ='expand')"
   ]
  },
  {
   "cell_type": "code",
   "execution_count": null,
   "metadata": {},
   "outputs": [],
   "source": [
    "# d['first_name'] = lambda: {'first_name':fake.first_name_male()}\n",
    "# d['middle_name'] = lambda: {'middle_name':fake.first_name_male()}\n",
    "# d['last_name'] = lambda: {'last_name':fake.last_name()}\n",
    "# d['ssn'] = lambda: {'ssn':fake.ssn()}\n",
    "# d['birth_and_start_date'] = birth_and_start_date"
   ]
  },
  {
   "cell_type": "code",
   "execution_count": null,
   "metadata": {},
   "outputs": [],
   "source": [
    "# for _ in range(5):\n",
    "#    r=[d[k]() for k in d.keys()]\n",
    "#    print(r)"
   ]
  },
  {
   "cell_type": "code",
   "execution_count": null,
   "metadata": {},
   "outputs": [],
   "source": [
    "# for _ in range(5):\n",
    "#    deep_list = [list(d[k]().values()) for k in d.keys()]\n",
    "#    row = [item for sublist in deep_list for item in sublist]\n",
    "#    print(row)"
   ]
  },
  {
   "cell_type": "markdown",
   "metadata": {},
   "source": [
    "___"
   ]
  },
  {
   "cell_type": "markdown",
   "metadata": {},
   "source": [
    "### Creating the list of MALE \"workers\""
   ]
  },
  {
   "cell_type": "code",
   "execution_count": 54,
   "metadata": {},
   "outputs": [],
   "source": [
    "fake_gents = [\n",
    "{'MALE_FN': fake.first_name_male(), 'MALE_MN': fake.first_name_male(), 'MALE_LN': fake.last_name_male(),\n",
    "# 'DOB':fake.date_between(start_date='-65y', end_date='-18y'),\n",
    "# 'OBD':fake.date_between(start_date='-25y', end_date='-1M'),\n",
    "'SSN':fake.ssn()}\n",
    "for _ in range(500)]"
   ]
  },
  {
   "cell_type": "markdown",
   "metadata": {},
   "source": [
    "## CONVERT A LIST TO A DATAFRAME"
   ]
  },
  {
   "cell_type": "code",
   "execution_count": 55,
   "metadata": {},
   "outputs": [],
   "source": [
    "df = pd.DataFrame(fake_gents)"
   ]
  },
  {
   "cell_type": "code",
   "execution_count": null,
   "metadata": {},
   "outputs": [],
   "source": [
    "df.dtypes"
   ]
  },
  {
   "cell_type": "markdown",
   "metadata": {},
   "source": [
    "(Multiple column help)[https://www.pauldesalvo.com/how-to-return-multiple-columns-from-pandas-using-the-apply-function/]"
   ]
  },
  {
   "cell_type": "code",
   "execution_count": 56,
   "metadata": {},
   "outputs": [],
   "source": [
    "df[['DOB', 'OBD']] = df.apply(birth_and_start_date, axis=1, result_type ='expand')"
   ]
  },
  {
   "cell_type": "markdown",
   "metadata": {},
   "source": [
    "### Join (concat) the names and stip the middle name to just the middle initial"
   ]
  },
  {
   "cell_type": "code",
   "execution_count": 57,
   "metadata": {},
   "outputs": [],
   "source": [
    "df['FULL_NAME'] = df['MALE_LN'] + (', ' + df['MALE_FN'])  + (' '+ df['MALE_MN'].str[0])\n"
   ]
  },
  {
   "cell_type": "code",
   "execution_count": 58,
   "metadata": {},
   "outputs": [],
   "source": [
    "df['EMAIL'] = df['MALE_FN'].str[0] + (df['MALE_LN'] + ('@FEDERAL.GOV'))\n",
    "df['EMAIL'] = df['EMAIL'].str.lower()"
   ]
  },
  {
   "cell_type": "code",
   "execution_count": 59,
   "metadata": {},
   "outputs": [],
   "source": [
    "df['SEX'] = ('M')"
   ]
  },
  {
   "cell_type": "code",
   "execution_count": 60,
   "metadata": {},
   "outputs": [],
   "source": [
    "df.sort_values(by=['OBD'], inplace=True)"
   ]
  },
  {
   "cell_type": "code",
   "execution_count": 61,
   "metadata": {},
   "outputs": [
    {
     "data": {
      "text/html": [
       "<div>\n",
       "<style scoped>\n",
       "    .dataframe tbody tr th:only-of-type {\n",
       "        vertical-align: middle;\n",
       "    }\n",
       "\n",
       "    .dataframe tbody tr th {\n",
       "        vertical-align: top;\n",
       "    }\n",
       "\n",
       "    .dataframe thead th {\n",
       "        text-align: right;\n",
       "    }\n",
       "</style>\n",
       "<table border=\"1\" class=\"dataframe\">\n",
       "  <thead>\n",
       "    <tr style=\"text-align: right;\">\n",
       "      <th></th>\n",
       "      <th>MALE_FN</th>\n",
       "      <th>MALE_MN</th>\n",
       "      <th>MALE_LN</th>\n",
       "      <th>SSN</th>\n",
       "      <th>DOB</th>\n",
       "      <th>OBD</th>\n",
       "      <th>FULL_NAME</th>\n",
       "      <th>EMAIL</th>\n",
       "      <th>SEX</th>\n",
       "    </tr>\n",
       "  </thead>\n",
       "  <tbody>\n",
       "    <tr>\n",
       "      <th>410</th>\n",
       "      <td>Juan</td>\n",
       "      <td>Joseph</td>\n",
       "      <td>Neal</td>\n",
       "      <td>796-48-6407</td>\n",
       "      <td>1953-04-15</td>\n",
       "      <td>1992-04-05</td>\n",
       "      <td>Neal, Juan J</td>\n",
       "      <td>jneal@federal.gov</td>\n",
       "      <td>M</td>\n",
       "    </tr>\n",
       "    <tr>\n",
       "      <th>497</th>\n",
       "      <td>Dean</td>\n",
       "      <td>David</td>\n",
       "      <td>Cox</td>\n",
       "      <td>776-12-6237</td>\n",
       "      <td>1970-05-17</td>\n",
       "      <td>1992-05-11</td>\n",
       "      <td>Cox, Dean D</td>\n",
       "      <td>dcox@federal.gov</td>\n",
       "      <td>M</td>\n",
       "    </tr>\n",
       "    <tr>\n",
       "      <th>443</th>\n",
       "      <td>James</td>\n",
       "      <td>Anthony</td>\n",
       "      <td>Rivas</td>\n",
       "      <td>203-89-3993</td>\n",
       "      <td>1965-06-05</td>\n",
       "      <td>1992-05-29</td>\n",
       "      <td>Rivas, James A</td>\n",
       "      <td>jrivas@federal.gov</td>\n",
       "      <td>M</td>\n",
       "    </tr>\n",
       "    <tr>\n",
       "      <th>261</th>\n",
       "      <td>Christopher</td>\n",
       "      <td>Timothy</td>\n",
       "      <td>Clark</td>\n",
       "      <td>067-31-4135</td>\n",
       "      <td>1960-06-14</td>\n",
       "      <td>1992-06-06</td>\n",
       "      <td>Clark, Christopher T</td>\n",
       "      <td>cclark@federal.gov</td>\n",
       "      <td>M</td>\n",
       "    </tr>\n",
       "    <tr>\n",
       "      <th>106</th>\n",
       "      <td>Scott</td>\n",
       "      <td>Rodney</td>\n",
       "      <td>Wilson</td>\n",
       "      <td>319-25-3000</td>\n",
       "      <td>1950-06-22</td>\n",
       "      <td>1992-06-11</td>\n",
       "      <td>Wilson, Scott R</td>\n",
       "      <td>swilson@federal.gov</td>\n",
       "      <td>M</td>\n",
       "    </tr>\n",
       "  </tbody>\n",
       "</table>\n",
       "</div>"
      ],
      "text/plain": [
       "         MALE_FN  MALE_MN MALE_LN          SSN         DOB         OBD  \\\n",
       "410         Juan   Joseph    Neal  796-48-6407  1953-04-15  1992-04-05   \n",
       "497         Dean    David     Cox  776-12-6237  1970-05-17  1992-05-11   \n",
       "443        James  Anthony   Rivas  203-89-3993  1965-06-05  1992-05-29   \n",
       "261  Christopher  Timothy   Clark  067-31-4135  1960-06-14  1992-06-06   \n",
       "106        Scott   Rodney  Wilson  319-25-3000  1950-06-22  1992-06-11   \n",
       "\n",
       "                FULL_NAME                EMAIL SEX  \n",
       "410          Neal, Juan J    jneal@federal.gov   M  \n",
       "497           Cox, Dean D     dcox@federal.gov   M  \n",
       "443        Rivas, James A   jrivas@federal.gov   M  \n",
       "261  Clark, Christopher T   cclark@federal.gov   M  \n",
       "106       Wilson, Scott R  swilson@federal.gov   M  "
      ]
     },
     "execution_count": 61,
     "metadata": {},
     "output_type": "execute_result"
    }
   ],
   "source": [
    "df['OBD']= pd.to_datetime(df['OBD']) # This line converts the string 'date' to a real datetime\n",
    "df['OBD']= df['OBD'].dt.date # This line strips the time data off and leave just a date\n",
    "df['DOB']= pd.to_datetime(df['DOB']) # This line converts the string 'date' to a real datetime\n",
    "df['DOB']= df['DOB'].dt.date # This line strips the time data off and leave just a date\n",
    "df.head(5)"
   ]
  },
  {
   "cell_type": "code",
   "execution_count": 62,
   "metadata": {},
   "outputs": [
    {
     "data": {
      "text/plain": [
       "False"
      ]
     },
     "execution_count": 62,
     "metadata": {},
     "output_type": "execute_result"
    }
   ],
   "source": [
    "df['EMAIL'].is_unique "
   ]
  },
  {
   "cell_type": "code",
   "execution_count": 63,
   "metadata": {},
   "outputs": [
    {
     "data": {
      "text/plain": [
       "True"
      ]
     },
     "execution_count": 63,
     "metadata": {},
     "output_type": "execute_result"
    }
   ],
   "source": [
    "df['SSN'].is_unique "
   ]
  },
  {
   "cell_type": "markdown",
   "metadata": {},
   "source": [
    "___"
   ]
  },
  {
   "cell_type": "markdown",
   "metadata": {},
   "source": [
    "### Creating the Female \"workers\""
   ]
  },
  {
   "cell_type": "code",
   "execution_count": 64,
   "metadata": {},
   "outputs": [],
   "source": [
    "fake_ladies = [\n",
    "{'FEMALE_FN': fake.first_name_female(), 'FEMALE_MN': fake.first_name_female(), 'FEMALE_LN': fake.last_name_female(),\n",
    "# 'DOB':fake.date_between(start_date='-65y', end_date='-18y'),\n",
    "# 'OBD':fake.date_between(start_date='-25y', end_date='-1M'),\n",
    "'SSN':fake.ssn()}\n",
    "for _ in range(500)]"
   ]
  },
  {
   "cell_type": "code",
   "execution_count": 65,
   "metadata": {},
   "outputs": [],
   "source": [
    "df2 = pd.DataFrame(fake_ladies)"
   ]
  },
  {
   "cell_type": "code",
   "execution_count": 66,
   "metadata": {},
   "outputs": [],
   "source": [
    "df2[['DOB', 'OBD']] = df2.apply(birth_and_start_date, axis=1, result_type ='expand')"
   ]
  },
  {
   "cell_type": "code",
   "execution_count": 67,
   "metadata": {},
   "outputs": [],
   "source": [
    "df2['FULL_NAME'] = df2['FEMALE_LN'] + (', ' + df2['FEMALE_FN'])  + (' '+ df2['FEMALE_MN'].str[0])\n",
    "df2['EMAIL'] = df2['FEMALE_FN'].str[0] + (df2['FEMALE_LN'] + ('@FEDERAL.GOV'))\n",
    "df2['EMAIL'] = df2['EMAIL'].str.lower()\n",
    "df2['SEX'] = ('F')\n"
   ]
  },
  {
   "cell_type": "code",
   "execution_count": 68,
   "metadata": {},
   "outputs": [],
   "source": [
    "df2.sort_values(by=['OBD'], inplace=True)"
   ]
  },
  {
   "cell_type": "code",
   "execution_count": 69,
   "metadata": {},
   "outputs": [
    {
     "data": {
      "text/html": [
       "<div>\n",
       "<style scoped>\n",
       "    .dataframe tbody tr th:only-of-type {\n",
       "        vertical-align: middle;\n",
       "    }\n",
       "\n",
       "    .dataframe tbody tr th {\n",
       "        vertical-align: top;\n",
       "    }\n",
       "\n",
       "    .dataframe thead th {\n",
       "        text-align: right;\n",
       "    }\n",
       "</style>\n",
       "<table border=\"1\" class=\"dataframe\">\n",
       "  <thead>\n",
       "    <tr style=\"text-align: right;\">\n",
       "      <th></th>\n",
       "      <th>FEMALE_FN</th>\n",
       "      <th>FEMALE_MN</th>\n",
       "      <th>FEMALE_LN</th>\n",
       "      <th>SSN</th>\n",
       "      <th>DOB</th>\n",
       "      <th>OBD</th>\n",
       "      <th>FULL_NAME</th>\n",
       "      <th>EMAIL</th>\n",
       "      <th>SEX</th>\n",
       "    </tr>\n",
       "  </thead>\n",
       "  <tbody>\n",
       "    <tr>\n",
       "      <th>253</th>\n",
       "      <td>Christina</td>\n",
       "      <td>Amy</td>\n",
       "      <td>Smith</td>\n",
       "      <td>846-97-0112</td>\n",
       "      <td>1944-04-24</td>\n",
       "      <td>1992-04-12</td>\n",
       "      <td>Smith, Christina A</td>\n",
       "      <td>csmith@federal.gov</td>\n",
       "      <td>F</td>\n",
       "    </tr>\n",
       "    <tr>\n",
       "      <th>435</th>\n",
       "      <td>Mallory</td>\n",
       "      <td>Samantha</td>\n",
       "      <td>Gibson</td>\n",
       "      <td>830-42-4529</td>\n",
       "      <td>1951-05-10</td>\n",
       "      <td>1992-04-29</td>\n",
       "      <td>Gibson, Mallory S</td>\n",
       "      <td>mgibson@federal.gov</td>\n",
       "      <td>F</td>\n",
       "    </tr>\n",
       "    <tr>\n",
       "      <th>190</th>\n",
       "      <td>Veronica</td>\n",
       "      <td>Nicole</td>\n",
       "      <td>Wells</td>\n",
       "      <td>544-03-8760</td>\n",
       "      <td>1945-05-18</td>\n",
       "      <td>1992-05-06</td>\n",
       "      <td>Wells, Veronica N</td>\n",
       "      <td>vwells@federal.gov</td>\n",
       "      <td>F</td>\n",
       "    </tr>\n",
       "    <tr>\n",
       "      <th>140</th>\n",
       "      <td>Sarah</td>\n",
       "      <td>Carol</td>\n",
       "      <td>Cole</td>\n",
       "      <td>016-08-8924</td>\n",
       "      <td>1957-05-22</td>\n",
       "      <td>1992-05-13</td>\n",
       "      <td>Cole, Sarah C</td>\n",
       "      <td>scole@federal.gov</td>\n",
       "      <td>F</td>\n",
       "    </tr>\n",
       "    <tr>\n",
       "      <th>373</th>\n",
       "      <td>Carly</td>\n",
       "      <td>Sara</td>\n",
       "      <td>Stewart</td>\n",
       "      <td>158-45-7999</td>\n",
       "      <td>1964-05-20</td>\n",
       "      <td>1992-05-13</td>\n",
       "      <td>Stewart, Carly S</td>\n",
       "      <td>cstewart@federal.gov</td>\n",
       "      <td>F</td>\n",
       "    </tr>\n",
       "  </tbody>\n",
       "</table>\n",
       "</div>"
      ],
      "text/plain": [
       "     FEMALE_FN FEMALE_MN FEMALE_LN          SSN         DOB         OBD  \\\n",
       "253  Christina       Amy     Smith  846-97-0112  1944-04-24  1992-04-12   \n",
       "435    Mallory  Samantha    Gibson  830-42-4529  1951-05-10  1992-04-29   \n",
       "190   Veronica    Nicole     Wells  544-03-8760  1945-05-18  1992-05-06   \n",
       "140      Sarah     Carol      Cole  016-08-8924  1957-05-22  1992-05-13   \n",
       "373      Carly      Sara   Stewart  158-45-7999  1964-05-20  1992-05-13   \n",
       "\n",
       "              FULL_NAME                 EMAIL SEX  \n",
       "253  Smith, Christina A    csmith@federal.gov   F  \n",
       "435   Gibson, Mallory S   mgibson@federal.gov   F  \n",
       "190   Wells, Veronica N    vwells@federal.gov   F  \n",
       "140       Cole, Sarah C     scole@federal.gov   F  \n",
       "373    Stewart, Carly S  cstewart@federal.gov   F  "
      ]
     },
     "execution_count": 69,
     "metadata": {},
     "output_type": "execute_result"
    }
   ],
   "source": [
    "df2['OBD']= pd.to_datetime(df2['OBD']) # This line converts the string 'date' to a real datetime\n",
    "df2['OBD']= df2['OBD'].dt.date # This line strips the time data off and leave just a date\n",
    "df2['DOB']= pd.to_datetime(df2['DOB']) # This line converts the string 'date' to a real datetime\n",
    "df2['DOB']= df2['DOB'].dt.date # This line strips the time data off and leave just a date\n",
    "df2.head(5)"
   ]
  },
  {
   "cell_type": "markdown",
   "metadata": {},
   "source": [
    "Renaming the columns so the injest does not fail."
   ]
  },
  {
   "cell_type": "code",
   "execution_count": 70,
   "metadata": {},
   "outputs": [],
   "source": [
    "df = df.rename(columns={\"MALE_FN\":\"FNAME\", \"MALE_MN\":\"MNAME\",\"MALE_LN\":\"LNAME\"})\n",
    "df2 = df2.rename(columns={\"FEMALE_FN\":\"FNAME\", \"FEMALE_MN\":\"MNAME\",\"FEMALE_LN\":\"LNAME\"})"
   ]
  },
  {
   "cell_type": "markdown",
   "metadata": {},
   "source": [
    "___"
   ]
  },
  {
   "cell_type": "code",
   "execution_count": 72,
   "metadata": {},
   "outputs": [
    {
     "data": {
      "text/plain": [
       "500"
      ]
     },
     "execution_count": 72,
     "metadata": {},
     "output_type": "execute_result"
    }
   ],
   "source": [
    "df.to_sql('tmp_FAKER', dbconn, index=0, if_exists='replace') # injesting the first (Male) dataframe"
   ]
  },
  {
   "cell_type": "code",
   "execution_count": 73,
   "metadata": {},
   "outputs": [
    {
     "data": {
      "text/plain": [
       "500"
      ]
     },
     "execution_count": 73,
     "metadata": {},
     "output_type": "execute_result"
    }
   ],
   "source": [
    "df2.to_sql('tmp_FAKER', dbconn, index=0, if_exists='append') # injesting the sencond df (female)"
   ]
  },
  {
   "cell_type": "markdown",
   "metadata": {},
   "source": [
    "___"
   ]
  },
  {
   "cell_type": "markdown",
   "metadata": {},
   "source": [
    "Housekeeping:"
   ]
  },
  {
   "cell_type": "code",
   "execution_count": 71,
   "metadata": {},
   "outputs": [],
   "source": [
    "cursor = dbconn.cursor()\n",
    "cursor.execute('''DROP TABLE tmp_FAKER''')\n",
    "# cursor.execute('''DROP TABLE tmp_FAKERM''')\n",
    "# cursor.execute('''DROP TABLE tmp_FAKERF''')\n",
    "dbconn.commit()"
   ]
  },
  {
   "cell_type": "markdown",
   "metadata": {},
   "source": [
    "___"
   ]
  },
  {
   "cell_type": "markdown",
   "metadata": {},
   "source": [
    "Read all the 'workers' back into a dataframe."
   ]
  },
  {
   "cell_type": "code",
   "execution_count": 74,
   "metadata": {},
   "outputs": [
    {
     "data": {
      "text/html": [
       "<div>\n",
       "<style scoped>\n",
       "    .dataframe tbody tr th:only-of-type {\n",
       "        vertical-align: middle;\n",
       "    }\n",
       "\n",
       "    .dataframe tbody tr th {\n",
       "        vertical-align: top;\n",
       "    }\n",
       "\n",
       "    .dataframe thead th {\n",
       "        text-align: right;\n",
       "    }\n",
       "</style>\n",
       "<table border=\"1\" class=\"dataframe\">\n",
       "  <thead>\n",
       "    <tr style=\"text-align: right;\">\n",
       "      <th></th>\n",
       "      <th>FNAME</th>\n",
       "      <th>MNAME</th>\n",
       "      <th>LNAME</th>\n",
       "      <th>SSN</th>\n",
       "      <th>DOB</th>\n",
       "      <th>OBD</th>\n",
       "      <th>FULL_NAME</th>\n",
       "      <th>EMAIL</th>\n",
       "      <th>SEX</th>\n",
       "    </tr>\n",
       "  </thead>\n",
       "  <tbody>\n",
       "    <tr>\n",
       "      <th>0</th>\n",
       "      <td>Juan</td>\n",
       "      <td>Joseph</td>\n",
       "      <td>Neal</td>\n",
       "      <td>796-48-6407</td>\n",
       "      <td>1953-04-15</td>\n",
       "      <td>1992-04-05</td>\n",
       "      <td>Neal, Juan J</td>\n",
       "      <td>jneal@federal.gov</td>\n",
       "      <td>M</td>\n",
       "    </tr>\n",
       "    <tr>\n",
       "      <th>1</th>\n",
       "      <td>Dean</td>\n",
       "      <td>David</td>\n",
       "      <td>Cox</td>\n",
       "      <td>776-12-6237</td>\n",
       "      <td>1970-05-17</td>\n",
       "      <td>1992-05-11</td>\n",
       "      <td>Cox, Dean D</td>\n",
       "      <td>dcox@federal.gov</td>\n",
       "      <td>M</td>\n",
       "    </tr>\n",
       "    <tr>\n",
       "      <th>2</th>\n",
       "      <td>James</td>\n",
       "      <td>Anthony</td>\n",
       "      <td>Rivas</td>\n",
       "      <td>203-89-3993</td>\n",
       "      <td>1965-06-05</td>\n",
       "      <td>1992-05-29</td>\n",
       "      <td>Rivas, James A</td>\n",
       "      <td>jrivas@federal.gov</td>\n",
       "      <td>M</td>\n",
       "    </tr>\n",
       "    <tr>\n",
       "      <th>3</th>\n",
       "      <td>Christopher</td>\n",
       "      <td>Timothy</td>\n",
       "      <td>Clark</td>\n",
       "      <td>067-31-4135</td>\n",
       "      <td>1960-06-14</td>\n",
       "      <td>1992-06-06</td>\n",
       "      <td>Clark, Christopher T</td>\n",
       "      <td>cclark@federal.gov</td>\n",
       "      <td>M</td>\n",
       "    </tr>\n",
       "    <tr>\n",
       "      <th>4</th>\n",
       "      <td>Scott</td>\n",
       "      <td>Rodney</td>\n",
       "      <td>Wilson</td>\n",
       "      <td>319-25-3000</td>\n",
       "      <td>1950-06-22</td>\n",
       "      <td>1992-06-11</td>\n",
       "      <td>Wilson, Scott R</td>\n",
       "      <td>swilson@federal.gov</td>\n",
       "      <td>M</td>\n",
       "    </tr>\n",
       "  </tbody>\n",
       "</table>\n",
       "</div>"
      ],
      "text/plain": [
       "         FNAME    MNAME   LNAME          SSN         DOB         OBD  \\\n",
       "0         Juan   Joseph    Neal  796-48-6407  1953-04-15  1992-04-05   \n",
       "1         Dean    David     Cox  776-12-6237  1970-05-17  1992-05-11   \n",
       "2        James  Anthony   Rivas  203-89-3993  1965-06-05  1992-05-29   \n",
       "3  Christopher  Timothy   Clark  067-31-4135  1960-06-14  1992-06-06   \n",
       "4        Scott   Rodney  Wilson  319-25-3000  1950-06-22  1992-06-11   \n",
       "\n",
       "              FULL_NAME                EMAIL SEX  \n",
       "0          Neal, Juan J    jneal@federal.gov   M  \n",
       "1           Cox, Dean D     dcox@federal.gov   M  \n",
       "2        Rivas, James A   jrivas@federal.gov   M  \n",
       "3  Clark, Christopher T   cclark@federal.gov   M  \n",
       "4       Wilson, Scott R  swilson@federal.gov   M  "
      ]
     },
     "execution_count": 74,
     "metadata": {},
     "output_type": "execute_result"
    }
   ],
   "source": [
    "df3 = pd.read_sql_query('select * FROM tmp_FAKER', dbconn)\n",
    "df3.head(5)"
   ]
  },
  {
   "cell_type": "markdown",
   "metadata": {},
   "source": [
    "Getting ready to sort all by their OBD so that the ECI will makes sense, initially."
   ]
  },
  {
   "cell_type": "code",
   "execution_count": 75,
   "metadata": {},
   "outputs": [],
   "source": [
    "df3['OBD']= pd.to_datetime(df3['OBD']) # This line converts the string 'date' to a real datetime\n",
    "df3['OBD']= df3['OBD'].dt.date # This line strips the time data off and leave just a date"
   ]
  },
  {
   "cell_type": "code",
   "execution_count": 76,
   "metadata": {},
   "outputs": [
    {
     "data": {
      "text/plain": [
       "FNAME        object\n",
       "MNAME        object\n",
       "LNAME        object\n",
       "SSN          object\n",
       "DOB          object\n",
       "OBD          object\n",
       "FULL_NAME    object\n",
       "EMAIL        object\n",
       "SEX          object\n",
       "dtype: object"
      ]
     },
     "execution_count": 76,
     "metadata": {},
     "output_type": "execute_result"
    }
   ],
   "source": [
    "df3.dtypes"
   ]
  },
  {
   "cell_type": "markdown",
   "metadata": {},
   "source": [
    "### Sorting everything after mixing MALES with FEMALES"
   ]
  },
  {
   "cell_type": "code",
   "execution_count": 77,
   "metadata": {},
   "outputs": [
    {
     "data": {
      "text/html": [
       "<div>\n",
       "<style scoped>\n",
       "    .dataframe tbody tr th:only-of-type {\n",
       "        vertical-align: middle;\n",
       "    }\n",
       "\n",
       "    .dataframe tbody tr th {\n",
       "        vertical-align: top;\n",
       "    }\n",
       "\n",
       "    .dataframe thead th {\n",
       "        text-align: right;\n",
       "    }\n",
       "</style>\n",
       "<table border=\"1\" class=\"dataframe\">\n",
       "  <thead>\n",
       "    <tr style=\"text-align: right;\">\n",
       "      <th></th>\n",
       "      <th>FNAME</th>\n",
       "      <th>MNAME</th>\n",
       "      <th>LNAME</th>\n",
       "      <th>SSN</th>\n",
       "      <th>DOB</th>\n",
       "      <th>OBD</th>\n",
       "      <th>FULL_NAME</th>\n",
       "      <th>EMAIL</th>\n",
       "      <th>SEX</th>\n",
       "    </tr>\n",
       "  </thead>\n",
       "  <tbody>\n",
       "    <tr>\n",
       "      <th>0</th>\n",
       "      <td>Juan</td>\n",
       "      <td>Joseph</td>\n",
       "      <td>Neal</td>\n",
       "      <td>796-48-6407</td>\n",
       "      <td>1953-04-15</td>\n",
       "      <td>1992-04-05</td>\n",
       "      <td>Neal, Juan J</td>\n",
       "      <td>jneal@federal.gov</td>\n",
       "      <td>M</td>\n",
       "    </tr>\n",
       "    <tr>\n",
       "      <th>500</th>\n",
       "      <td>Christina</td>\n",
       "      <td>Amy</td>\n",
       "      <td>Smith</td>\n",
       "      <td>846-97-0112</td>\n",
       "      <td>1944-04-24</td>\n",
       "      <td>1992-04-12</td>\n",
       "      <td>Smith, Christina A</td>\n",
       "      <td>csmith@federal.gov</td>\n",
       "      <td>F</td>\n",
       "    </tr>\n",
       "    <tr>\n",
       "      <th>501</th>\n",
       "      <td>Mallory</td>\n",
       "      <td>Samantha</td>\n",
       "      <td>Gibson</td>\n",
       "      <td>830-42-4529</td>\n",
       "      <td>1951-05-10</td>\n",
       "      <td>1992-04-29</td>\n",
       "      <td>Gibson, Mallory S</td>\n",
       "      <td>mgibson@federal.gov</td>\n",
       "      <td>F</td>\n",
       "    </tr>\n",
       "    <tr>\n",
       "      <th>502</th>\n",
       "      <td>Veronica</td>\n",
       "      <td>Nicole</td>\n",
       "      <td>Wells</td>\n",
       "      <td>544-03-8760</td>\n",
       "      <td>1945-05-18</td>\n",
       "      <td>1992-05-06</td>\n",
       "      <td>Wells, Veronica N</td>\n",
       "      <td>vwells@federal.gov</td>\n",
       "      <td>F</td>\n",
       "    </tr>\n",
       "    <tr>\n",
       "      <th>1</th>\n",
       "      <td>Dean</td>\n",
       "      <td>David</td>\n",
       "      <td>Cox</td>\n",
       "      <td>776-12-6237</td>\n",
       "      <td>1970-05-17</td>\n",
       "      <td>1992-05-11</td>\n",
       "      <td>Cox, Dean D</td>\n",
       "      <td>dcox@federal.gov</td>\n",
       "      <td>M</td>\n",
       "    </tr>\n",
       "    <tr>\n",
       "      <th>504</th>\n",
       "      <td>Carly</td>\n",
       "      <td>Sara</td>\n",
       "      <td>Stewart</td>\n",
       "      <td>158-45-7999</td>\n",
       "      <td>1964-05-20</td>\n",
       "      <td>1992-05-13</td>\n",
       "      <td>Stewart, Carly S</td>\n",
       "      <td>cstewart@federal.gov</td>\n",
       "      <td>F</td>\n",
       "    </tr>\n",
       "    <tr>\n",
       "      <th>503</th>\n",
       "      <td>Sarah</td>\n",
       "      <td>Carol</td>\n",
       "      <td>Cole</td>\n",
       "      <td>016-08-8924</td>\n",
       "      <td>1957-05-22</td>\n",
       "      <td>1992-05-13</td>\n",
       "      <td>Cole, Sarah C</td>\n",
       "      <td>scole@federal.gov</td>\n",
       "      <td>F</td>\n",
       "    </tr>\n",
       "    <tr>\n",
       "      <th>505</th>\n",
       "      <td>Nicole</td>\n",
       "      <td>Susan</td>\n",
       "      <td>Campbell</td>\n",
       "      <td>169-20-0469</td>\n",
       "      <td>1953-05-27</td>\n",
       "      <td>1992-05-17</td>\n",
       "      <td>Campbell, Nicole S</td>\n",
       "      <td>ncampbell@federal.gov</td>\n",
       "      <td>F</td>\n",
       "    </tr>\n",
       "    <tr>\n",
       "      <th>506</th>\n",
       "      <td>Ashley</td>\n",
       "      <td>Barbara</td>\n",
       "      <td>Hernandez</td>\n",
       "      <td>597-04-7377</td>\n",
       "      <td>1948-06-04</td>\n",
       "      <td>1992-05-24</td>\n",
       "      <td>Hernandez, Ashley B</td>\n",
       "      <td>ahernandez@federal.gov</td>\n",
       "      <td>F</td>\n",
       "    </tr>\n",
       "    <tr>\n",
       "      <th>2</th>\n",
       "      <td>James</td>\n",
       "      <td>Anthony</td>\n",
       "      <td>Rivas</td>\n",
       "      <td>203-89-3993</td>\n",
       "      <td>1965-06-05</td>\n",
       "      <td>1992-05-29</td>\n",
       "      <td>Rivas, James A</td>\n",
       "      <td>jrivas@federal.gov</td>\n",
       "      <td>M</td>\n",
       "    </tr>\n",
       "    <tr>\n",
       "      <th>3</th>\n",
       "      <td>Christopher</td>\n",
       "      <td>Timothy</td>\n",
       "      <td>Clark</td>\n",
       "      <td>067-31-4135</td>\n",
       "      <td>1960-06-14</td>\n",
       "      <td>1992-06-06</td>\n",
       "      <td>Clark, Christopher T</td>\n",
       "      <td>cclark@federal.gov</td>\n",
       "      <td>M</td>\n",
       "    </tr>\n",
       "    <tr>\n",
       "      <th>4</th>\n",
       "      <td>Scott</td>\n",
       "      <td>Rodney</td>\n",
       "      <td>Wilson</td>\n",
       "      <td>319-25-3000</td>\n",
       "      <td>1950-06-22</td>\n",
       "      <td>1992-06-11</td>\n",
       "      <td>Wilson, Scott R</td>\n",
       "      <td>swilson@federal.gov</td>\n",
       "      <td>M</td>\n",
       "    </tr>\n",
       "  </tbody>\n",
       "</table>\n",
       "</div>"
      ],
      "text/plain": [
       "           FNAME     MNAME      LNAME          SSN         DOB         OBD  \\\n",
       "0           Juan    Joseph       Neal  796-48-6407  1953-04-15  1992-04-05   \n",
       "500    Christina       Amy      Smith  846-97-0112  1944-04-24  1992-04-12   \n",
       "501      Mallory  Samantha     Gibson  830-42-4529  1951-05-10  1992-04-29   \n",
       "502     Veronica    Nicole      Wells  544-03-8760  1945-05-18  1992-05-06   \n",
       "1           Dean     David        Cox  776-12-6237  1970-05-17  1992-05-11   \n",
       "504        Carly      Sara    Stewart  158-45-7999  1964-05-20  1992-05-13   \n",
       "503        Sarah     Carol       Cole  016-08-8924  1957-05-22  1992-05-13   \n",
       "505       Nicole     Susan   Campbell  169-20-0469  1953-05-27  1992-05-17   \n",
       "506       Ashley   Barbara  Hernandez  597-04-7377  1948-06-04  1992-05-24   \n",
       "2          James   Anthony      Rivas  203-89-3993  1965-06-05  1992-05-29   \n",
       "3    Christopher   Timothy      Clark  067-31-4135  1960-06-14  1992-06-06   \n",
       "4          Scott    Rodney     Wilson  319-25-3000  1950-06-22  1992-06-11   \n",
       "\n",
       "                FULL_NAME                   EMAIL SEX  \n",
       "0            Neal, Juan J       jneal@federal.gov   M  \n",
       "500    Smith, Christina A      csmith@federal.gov   F  \n",
       "501     Gibson, Mallory S     mgibson@federal.gov   F  \n",
       "502     Wells, Veronica N      vwells@federal.gov   F  \n",
       "1             Cox, Dean D        dcox@federal.gov   M  \n",
       "504      Stewart, Carly S    cstewart@federal.gov   F  \n",
       "503         Cole, Sarah C       scole@federal.gov   F  \n",
       "505    Campbell, Nicole S   ncampbell@federal.gov   F  \n",
       "506   Hernandez, Ashley B  ahernandez@federal.gov   F  \n",
       "2          Rivas, James A      jrivas@federal.gov   M  \n",
       "3    Clark, Christopher T      cclark@federal.gov   M  \n",
       "4         Wilson, Scott R     swilson@federal.gov   M  "
      ]
     },
     "execution_count": 77,
     "metadata": {},
     "output_type": "execute_result"
    }
   ],
   "source": [
    "df3.sort_values(by=['OBD'], inplace=True)\n",
    "df3.head(12)"
   ]
  },
  {
   "cell_type": "markdown",
   "metadata": {},
   "source": [
    "### Checking for duplicate emails"
   ]
  },
  {
   "cell_type": "code",
   "execution_count": null,
   "metadata": {},
   "outputs": [],
   "source": [
    "df_dupes = pd.read_sql_query('SELECT *, COUNT(EMAIL) FROM tmp_FAKER GROUP BY EMAIL HAVING COUNT(EMAIL)>1;', dbconn)\n",
    "df_dupes.head(35)"
   ]
  },
  {
   "cell_type": "markdown",
   "metadata": {},
   "source": [
    "### Dropping the duplicate emails."
   ]
  },
  {
   "cell_type": "code",
   "execution_count": 78,
   "metadata": {},
   "outputs": [
    {
     "data": {
      "text/plain": [
       "(889, 9)"
      ]
     },
     "execution_count": 78,
     "metadata": {},
     "output_type": "execute_result"
    }
   ],
   "source": [
    "df3 = df3.drop_duplicates(subset='EMAIL', keep=\"first\")\n",
    "df3.shape"
   ]
  },
  {
   "cell_type": "markdown",
   "metadata": {},
   "source": [
    "### Dropping and recreating the tables with the mixed and deduped data."
   ]
  },
  {
   "cell_type": "code",
   "execution_count": 101,
   "metadata": {},
   "outputs": [],
   "source": [
    "cursor = dbconn.cursor()\n",
    "cursor.execute('''DROP TABLE tmp_FAKER''')\n",
    "# cursor.execute('''DROP TABLE tmp_FAKERM''')\n",
    "# cursor.execute('''DROP TABLE tmp_FAKERF''')\n",
    "dbconn.commit()"
   ]
  },
  {
   "cell_type": "code",
   "execution_count": 102,
   "metadata": {},
   "outputs": [
    {
     "data": {
      "text/plain": [
       "889"
      ]
     },
     "execution_count": 102,
     "metadata": {},
     "output_type": "execute_result"
    }
   ],
   "source": [
    "df3.to_sql('tmp_FAKER', dbconn, index=0, if_exists='replace')"
   ]
  },
  {
   "cell_type": "markdown",
   "metadata": {},
   "source": [
    "### Wanted to do some time calculations:\n",
    "\n",
    "Seeing who has been will 'the Agency' the longest, etc.\n",
    "\n",
    "Situation where 'worker' is 20 years old but has 24 years of service."
   ]
  },
  {
   "cell_type": "markdown",
   "metadata": {},
   "source": [
    "This is a function to calculate the age of the 'Worker'\n",
    "But I had to convert it back to a datetime first"
   ]
  },
  {
   "cell_type": "code",
   "execution_count": 81,
   "metadata": {},
   "outputs": [],
   "source": [
    "df3['DOB']= pd.to_datetime(df3['DOB'])\n",
    "df3['OBD']= pd.to_datetime(df3['OBD'])"
   ]
  },
  {
   "cell_type": "code",
   "execution_count": 91,
   "metadata": {},
   "outputs": [
    {
     "data": {
      "text/plain": [
       "datetime.date(2022, 4, 1)"
      ]
     },
     "execution_count": 91,
     "metadata": {},
     "output_type": "execute_result"
    }
   ],
   "source": [
    "current_datetime = datetime.now()\n",
    "dt = current_datetime.date()\n",
    "dt_tomorrow = dt + timedelta(days=1)\n",
    "dt"
   ]
  },
  {
   "cell_type": "code",
   "execution_count": 92,
   "metadata": {},
   "outputs": [
    {
     "data": {
      "text/plain": [
       "datetime.date(2022, 4, 2)"
      ]
     },
     "execution_count": 92,
     "metadata": {},
     "output_type": "execute_result"
    }
   ],
   "source": [
    "dt_tomorrow"
   ]
  },
  {
   "cell_type": "code",
   "execution_count": 93,
   "metadata": {},
   "outputs": [],
   "source": [
    "# def f(end):\n",
    "#     r = relativedelta(pd.to_datetime('now'), end) \n",
    "#     return '{} years {} days'.format(r.years, r.days)\n",
    "\n",
    "def f(end):\n",
    "    # r = relativedelta(pd.to_datetime('now'), end) \n",
    "    r = relativedelta(pd.to_datetime(dt_tomorrow), end) \n",
    "    # return '{} years' .format(r.years)  # This line adds the word \"years\" into the field.\n",
    "    return '{}' .format(r.years)"
   ]
  },
  {
   "cell_type": "code",
   "execution_count": 94,
   "metadata": {},
   "outputs": [],
   "source": [
    "df3['AGE'] = df3[\"DOB\"].apply(f)"
   ]
  },
  {
   "cell_type": "code",
   "execution_count": 95,
   "metadata": {},
   "outputs": [],
   "source": [
    "df3['SERVICE_TIME'] = df3[\"OBD\"].apply(f)"
   ]
  },
  {
   "cell_type": "markdown",
   "metadata": {},
   "source": [
    "Converting the df back to just a Date for injest into db."
   ]
  },
  {
   "cell_type": "code",
   "execution_count": 100,
   "metadata": {},
   "outputs": [],
   "source": [
    "df3['OBD']= pd.to_datetime(df3['OBD']) # This line converts the string 'date' to a real datetime\n",
    "df3['OBD']= df3['OBD'].dt.date # This line strips the time data off and leave just a date\n",
    "df3['DOB']= pd.to_datetime(df3['DOB']) # This line converts the string 'date' to a real datetime\n",
    "df3['DOB']= df3['DOB'].dt.date # This line strips the time data off and leave just a date"
   ]
  }
 ],
 "metadata": {
  "interpreter": {
   "hash": "921337e9677d4819cc9eb0348f771bf44f64a0fc5b35fcc5030fc25cab691dce"
  },
  "kernelspec": {
   "display_name": "Python 3.10.2 ('venv': venv)",
   "language": "python",
   "name": "python3"
  },
  "language_info": {
   "codemirror_mode": {
    "name": "ipython",
    "version": 3
   },
   "file_extension": ".py",
   "mimetype": "text/x-python",
   "name": "python",
   "nbconvert_exporter": "python",
   "pygments_lexer": "ipython3",
   "version": "3.10.2"
  },
  "orig_nbformat": 4
 },
 "nbformat": 4,
 "nbformat_minor": 2
}
