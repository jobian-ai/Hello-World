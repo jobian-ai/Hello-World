{
  "cells": [
    {
      "attachments": {},
      "cell_type": "markdown",
      "metadata": {
        "colab_type": "text",
        "id": "view-in-github"
      },
      "source": [
        "<a href=\"https://colab.research.google.com/github/jobian-ai/Hello-World/blob/main/fakerTest.ipynb\" target=\"_parent\"><img src=\"https://colab.research.google.com/assets/colab-badge.svg\" alt=\"Open In Colab\"/></a>"
      ]
    },
    {
      "attachments": {},
      "cell_type": "markdown",
      "metadata": {
        "id": "AbJrfIDv95XE"
      },
      "source": [
        "Install dependent modules"
      ]
    },
    {
      "cell_type": "code",
      "execution_count": null,
      "metadata": {
        "id": "MQY_Z7Dm9D4J"
      },
      "outputs": [],
      "source": [
        "pip install Faker\n"
      ]
    },
    {
      "attachments": {},
      "cell_type": "markdown",
      "metadata": {
        "id": "qV3WHDpG-Bd9"
      },
      "source": [
        "### Import modules"
      ]
    },
    {
      "cell_type": "code",
      "execution_count": null,
      "metadata": {
        "id": "fm1FKv4U8GCq"
      },
      "outputs": [],
      "source": [
        "from faker import Faker\n",
        "import sqlite3\n",
        "import pandas as pd\n",
        "import numpy as np\n",
        "from datetime import datetime, date, timedelta\n",
        "from dateutil.relativedelta import relativedelta\n",
        "import random\n",
        "import os\n"
      ]
    },
    {
      "attachments": {},
      "cell_type": "markdown",
      "metadata": {
        "id": "t2uhFMkb9cr6"
      },
      "source": [
        "---\n",
        "# Connect to the database\n",
        "\n",
        "\n"
      ]
    },
    {
      "cell_type": "code",
      "execution_count": null,
      "metadata": {
        "id": "YmarMQPs91G9"
      },
      "outputs": [],
      "source": [
        "dbconn = sqlite3.connect('FakeHR.db') # permanent database\n",
        "print(dbconn) # Check the connection to the database."
      ]
    },
    {
      "cell_type": "code",
      "execution_count": null,
      "metadata": {
        "id": "jLp1zj26-Rfk"
      },
      "outputs": [],
      "source": [
        "cursor = dbconn.cursor()\n",
        "cursor"
      ]
    },
    {
      "attachments": {},
      "cell_type": "markdown",
      "metadata": {
        "id": "XfNpeX2B-vi1"
      },
      "source": [
        "# Working with Faker"
      ]
    },
    {
      "cell_type": "code",
      "execution_count": null,
      "metadata": {
        "id": "RSj3v6al-zyZ"
      },
      "outputs": [],
      "source": [
        "# initialize a generator\n",
        "fake = Faker()"
      ]
    },
    {
      "attachments": {},
      "cell_type": "markdown",
      "metadata": {
        "id": "HbW67pQH5l9F"
      },
      "source": [
        "### Born after starting at job - Problem.\n",
        "\n",
        "Issue with having Faker generate fake Hire Dates (OBD's) and Date of Births (DOB's) is that they aren't realistic.  Could be born after the Hire Date.  Hence, I used the approach (found here)[https://www.tonic.ai/blog/how-to-generate-simple-test-data-with-faker]\n",
        "\n",
        "Defining a function that links the DOB and OBD's"
      ]
    },
    {
      "cell_type": "code",
      "execution_count": null,
      "metadata": {
        "id": "AD1lpR9f6o0Z"
      },
      "outputs": [],
      "source": [
        "def birth_and_start_date(x):\n",
        "   sd = fake.date_between(start_date=\"-30y\", end_date=\"now\")\n",
        "   delta = timedelta(days=365*random.randint(22,52))\n",
        "   bd = sd-delta\n",
        "\n",
        "   return {'DOB':bd, 'OBD': sd}"
      ]
    },
    {
      "attachments": {},
      "cell_type": "markdown",
      "metadata": {
        "id": "pbfIXX0aVF3k"
      },
      "source": [
        "___\n",
        "# Start \n",
        "\n",
        "## Creating the faker file here\n",
        "___"
      ]
    },
    {
      "attachments": {},
      "cell_type": "markdown",
      "metadata": {
        "id": "x4GDg_XX665c"
      },
      "source": [
        "### Generating for the gents. . ."
      ]
    },
    {
      "cell_type": "code",
      "execution_count": null,
      "metadata": {
        "id": "5E_03TvN5iOH"
      },
      "outputs": [],
      "source": [
        "# 'LINKED_DATES':birth_and_start_date.(x=[0])}\n",
        "fake_gents = [\n",
        "{'MALE_FN': fake.first_name_male(), 'MALE_MN': fake.first_name_male(), 'MALE_LN': fake.last_name_male(),\n",
        "'SSN':fake.ssn()}\n",
        "for _ in range(500)]"
      ]
    },
    {
      "cell_type": "code",
      "execution_count": null,
      "metadata": {
        "id": "QoIomByd7coG"
      },
      "outputs": [],
      "source": [
        "df = pd.DataFrame(fake_gents)\n",
        "df.head()"
      ]
    },
    {
      "attachments": {},
      "cell_type": "markdown",
      "metadata": {
        "id": "SbsRfJqpSHyA"
      },
      "source": [
        "### Coverting to a dataframe"
      ]
    },
    {
      "cell_type": "code",
      "execution_count": null,
      "metadata": {
        "id": "9jUIhnU1QjVr"
      },
      "outputs": [],
      "source": [
        "df = pd.DataFrame(fake_gents)"
      ]
    },
    {
      "attachments": {},
      "cell_type": "markdown",
      "metadata": {
        "id": "cgMbE_y4SNQd"
      },
      "source": [
        "### Appending the DOB and OBD date columns"
      ]
    },
    {
      "attachments": {},
      "cell_type": "markdown",
      "metadata": {
        "id": "KhZ6hlP5RNg-"
      },
      "source": [
        "(Multiple column help)[https://www.pauldesalvo.com/how-to-return-multiple-columns-from-pandas-using-the-apply-function/]"
      ]
    },
    {
      "cell_type": "code",
      "execution_count": null,
      "metadata": {
        "id": "LE24db9UQyPp"
      },
      "outputs": [],
      "source": [
        "df[['DOB', 'OBD']] = df.apply(birth_and_start_date, axis=1, result_type ='expand')"
      ]
    },
    {
      "cell_type": "code",
      "execution_count": null,
      "metadata": {
        "id": "4qradndnQ6En"
      },
      "outputs": [],
      "source": [
        "df.head()"
      ]
    },
    {
      "attachments": {},
      "cell_type": "markdown",
      "metadata": {
        "id": "BXLN1OcsRaNG"
      },
      "source": [
        "### Creating a Full Name field"
      ]
    },
    {
      "cell_type": "code",
      "execution_count": null,
      "metadata": {
        "id": "368f4eJmRicj"
      },
      "outputs": [],
      "source": [
        "df['FULL_NAME'] = df['MALE_LN'] + (', ' + df['MALE_FN'])  + (' '+ df['MALE_MN'].str[0])"
      ]
    },
    {
      "attachments": {},
      "cell_type": "markdown",
      "metadata": {
        "id": "TMk-yV3WSZE0"
      },
      "source": [
        "### Creating the email address based on first & last names"
      ]
    },
    {
      "cell_type": "code",
      "execution_count": null,
      "metadata": {
        "id": "lUBBNduUSgGw"
      },
      "outputs": [],
      "source": [
        "df['EMAIL'] = df['MALE_FN'].str[0] + (df['MALE_LN'] + ('@FEDERAL.GOV'))\n",
        "df['EMAIL'] = df['EMAIL'].str.lower()"
      ]
    },
    {
      "attachments": {},
      "cell_type": "markdown",
      "metadata": {
        "id": "_FeKqU2_Sl6h"
      },
      "source": [
        "### Adding a column for Sex."
      ]
    },
    {
      "cell_type": "code",
      "execution_count": null,
      "metadata": {
        "id": "B8fA2H33SpSH"
      },
      "outputs": [],
      "source": [
        "df['SEX'] = ('M')"
      ]
    },
    {
      "attachments": {},
      "cell_type": "markdown",
      "metadata": {
        "id": "Yygp0xDhS9NZ"
      },
      "source": [
        "### Converting the datetime to dates\n",
        "\n",
        "I like to see just the dates.\n",
        "\n",
        "I'm also apply a sort here."
      ]
    },
    {
      "cell_type": "code",
      "execution_count": null,
      "metadata": {
        "id": "X0AZD5O4VSpa"
      },
      "outputs": [],
      "source": [
        "df.sort_values(by=['OBD'], inplace=True)"
      ]
    },
    {
      "cell_type": "code",
      "execution_count": null,
      "metadata": {
        "id": "SYdGKd3XSxf3"
      },
      "outputs": [],
      "source": [
        "df['OBD']= pd.to_datetime(df['OBD']) # This line converts the string 'date' to a real datetime\n",
        "df['OBD']= df['OBD'].dt.date # This line strips the time data off and leave just a date\n",
        "df['DOB']= pd.to_datetime(df['DOB']) # This line converts the string 'date' to a real datetime\n",
        "df['DOB']= df['DOB'].dt.date # This line strips the time data off and leave just a date\n",
        "df.head(5)"
      ]
    },
    {
      "attachments": {},
      "cell_type": "markdown",
      "metadata": {
        "id": "Eb4pYPVtTZs2"
      },
      "source": [
        "### Testing for uniquness of Email / SSN"
      ]
    },
    {
      "cell_type": "code",
      "execution_count": null,
      "metadata": {
        "id": "296PuuRYTVLO"
      },
      "outputs": [],
      "source": [
        "df['EMAIL'].is_unique \n",
        "# df['SSN'].is_unique "
      ]
    },
    {
      "attachments": {},
      "cell_type": "markdown",
      "metadata": {
        "id": "525fjWL9T96D"
      },
      "source": [
        "___"
      ]
    },
    {
      "attachments": {},
      "cell_type": "markdown",
      "metadata": {
        "id": "zI2hFyBWTv-u"
      },
      "source": [
        "## Creating the Female \"Workers\""
      ]
    },
    {
      "cell_type": "code",
      "execution_count": null,
      "metadata": {
        "id": "-0Dcq0vAT02p"
      },
      "outputs": [],
      "source": [
        "fake_ladies = [\n",
        "{'FEMALE_FN': fake.first_name_female(), 'FEMALE_MN': fake.first_name_female(), 'FEMALE_LN': fake.last_name_female(),\n",
        "'SSN':fake.ssn()}\n",
        "for _ in range(500)]"
      ]
    },
    {
      "cell_type": "code",
      "execution_count": null,
      "metadata": {
        "id": "6rCbsGm9UCW9"
      },
      "outputs": [],
      "source": [
        "df2 = pd.DataFrame(fake_ladies)"
      ]
    },
    {
      "cell_type": "code",
      "execution_count": null,
      "metadata": {
        "id": "1-X9eTxBULsK"
      },
      "outputs": [],
      "source": [
        "df2[['DOB', 'OBD']] = df2.apply(birth_and_start_date, axis=1, result_type ='expand')"
      ]
    },
    {
      "cell_type": "code",
      "execution_count": null,
      "metadata": {
        "id": "HrU00NnoUFCB"
      },
      "outputs": [],
      "source": [
        "df2['FULL_NAME'] = df2['FEMALE_LN'] + (', ' + df2['FEMALE_FN'])  + (' '+ df2['FEMALE_MN'].str[0])\n",
        "df2['EMAIL'] = df2['FEMALE_FN'].str[0] + (df2['FEMALE_LN'] + ('@FEDERAL.GOV'))\n",
        "df2['EMAIL'] = df2['EMAIL'].str.lower()\n",
        "df2['SEX'] = ('F')\n"
      ]
    },
    {
      "cell_type": "code",
      "execution_count": null,
      "metadata": {
        "id": "BH7xzuNwVm4W"
      },
      "outputs": [],
      "source": [
        "df2.sort_values(by=['OBD'], inplace=True)"
      ]
    },
    {
      "cell_type": "code",
      "execution_count": null,
      "metadata": {
        "id": "3XFV0s5MUUQl"
      },
      "outputs": [],
      "source": [
        "df2['OBD']= pd.to_datetime(df2['OBD']) # This line converts the string 'date' to a real datetime\n",
        "df2['OBD']= df2['OBD'].dt.date # This line strips the time data off and leave just a date\n",
        "df2['DOB']= pd.to_datetime(df2['DOB']) # This line converts the string 'date' to a real datetime\n",
        "df2['DOB']= df2['DOB'].dt.date # This line strips the time data off and leave just a date\n",
        "df2.head(5)"
      ]
    },
    {
      "attachments": {},
      "cell_type": "markdown",
      "metadata": {
        "id": "M-95n7JSWNay"
      },
      "source": [
        "### Renaming the columns so the injest does not fail."
      ]
    },
    {
      "cell_type": "code",
      "execution_count": null,
      "metadata": {
        "id": "foCTftjxWTWc"
      },
      "outputs": [],
      "source": [
        "df = df.rename(columns={\"MALE_FN\":\"FNAME\", \"MALE_MN\":\"MNAME\",\"MALE_LN\":\"LNAME\"})\n",
        "df2 = df2.rename(columns={\"FEMALE_FN\":\"FNAME\", \"FEMALE_MN\":\"MNAME\",\"FEMALE_LN\":\"LNAME\"})"
      ]
    },
    {
      "cell_type": "code",
      "execution_count": null,
      "metadata": {
        "id": "euQS06UZWvGJ"
      },
      "outputs": [],
      "source": [
        "frames = [df, df2]"
      ]
    },
    {
      "cell_type": "code",
      "execution_count": null,
      "metadata": {
        "id": "dyo8-fTwWzDO"
      },
      "outputs": [],
      "source": [
        "df3 = pd.concat(frames)\n",
        "df3.sort_values(by=['OBD'], inplace=True)\n",
        "df3.head(5)"
      ]
    },
    {
      "cell_type": "code",
      "execution_count": null,
      "metadata": {
        "id": "RmSdYnPMXXy8"
      },
      "outputs": [],
      "source": [
        "df3.dtypes"
      ]
    },
    {
      "cell_type": "code",
      "execution_count": null,
      "metadata": {
        "id": "FVL4uROIXuBn"
      },
      "outputs": [],
      "source": [
        "df3.shape"
      ]
    },
    {
      "attachments": {},
      "cell_type": "markdown",
      "metadata": {
        "id": "g0zw05c8XkGf"
      },
      "source": [
        "### Dropping the duplicate email addresses. We will do this again at the end.\n",
        "\n",
        "\n",
        "\n"
      ]
    },
    {
      "cell_type": "code",
      "execution_count": null,
      "metadata": {
        "id": "STeUaavnXp1-"
      },
      "outputs": [],
      "source": [
        "df3 = df3.drop_duplicates(subset='EMAIL', keep=\"first\")\n",
        "df3.shape"
      ]
    },
    {
      "attachments": {},
      "cell_type": "markdown",
      "metadata": {
        "id": "NiXx6Nj_X3F2"
      },
      "source": [
        "### Time calculations\n",
        "\n",
        "I wanted to check how old and how long people worked there."
      ]
    },
    {
      "attachments": {},
      "cell_type": "markdown",
      "metadata": {
        "id": "NqPOm5zFYK0e"
      },
      "source": [
        "Had to covert back to datetime first!!"
      ]
    },
    {
      "cell_type": "code",
      "execution_count": null,
      "metadata": {
        "id": "tzoTZJF2YIBK"
      },
      "outputs": [],
      "source": [
        "df3['DOB']= pd.to_datetime(df3['DOB'])\n",
        "df3['OBD']= pd.to_datetime(df3['OBD'])\n"
      ]
    },
    {
      "cell_type": "code",
      "execution_count": null,
      "metadata": {
        "id": "1g8rU36wYTPs"
      },
      "outputs": [],
      "source": [
        "current_datetime = datetime.now()\n",
        "dt = current_datetime.date()\n",
        "dt_tomorrow = dt + timedelta(days=1)\n",
        "dt"
      ]
    },
    {
      "attachments": {},
      "cell_type": "markdown",
      "metadata": {
        "id": "lBMRNopmYXHP"
      },
      "source": [
        "### A function."
      ]
    },
    {
      "cell_type": "code",
      "execution_count": null,
      "metadata": {
        "id": "ouw5NeNcYZ_v"
      },
      "outputs": [],
      "source": [
        "def f(end):\n",
        "    # r = relativedelta(pd.to_datetime('now'), end) \n",
        "    r = relativedelta(pd.to_datetime(dt_tomorrow), end) \n",
        "    # return '{} years' .format(r.years)  # This line adds the word \"years\" into the field.\n",
        "    return '{}' .format(r.years)"
      ]
    },
    {
      "cell_type": "code",
      "execution_count": null,
      "metadata": {
        "id": "OzncwnwyYez6"
      },
      "outputs": [],
      "source": [
        "df3['AGE'] = df3[\"DOB\"].apply(f)"
      ]
    },
    {
      "cell_type": "code",
      "execution_count": null,
      "metadata": {
        "id": "bpn9sKNIYgvy"
      },
      "outputs": [],
      "source": [
        "df3['SERVICE_TIME'] = df3[\"OBD\"].apply(f)"
      ]
    },
    {
      "cell_type": "code",
      "execution_count": null,
      "metadata": {
        "id": "7SqhFN3iYmks"
      },
      "outputs": [],
      "source": [
        "df3.head(10)"
      ]
    },
    {
      "attachments": {},
      "cell_type": "markdown",
      "metadata": {
        "id": "K3u6PNuoY0io"
      },
      "source": [
        "### Getting back to just Dates.\n",
        "\n",
        "Not datetime."
      ]
    },
    {
      "cell_type": "code",
      "execution_count": null,
      "metadata": {
        "id": "gn3FyCBeYz69"
      },
      "outputs": [],
      "source": [
        "df3['OBD']= pd.to_datetime(df3['OBD']) # This line converts the string 'date' to a real datetime\n",
        "df3['OBD']= df3['OBD'].dt.date # This line strips the time data off and leave just a date\n",
        "df3['DOB']= pd.to_datetime(df3['DOB']) # This line converts the string 'date' to a real datetime\n",
        "df3['DOB']= df3['DOB'].dt.date # This line strips the time data off and leave just a date"
      ]
    },
    {
      "cell_type": "code",
      "execution_count": null,
      "metadata": {
        "id": "iZGEQ0gVY_ab"
      },
      "outputs": [],
      "source": [
        "df3.head(25)"
      ]
    },
    {
      "attachments": {},
      "cell_type": "markdown",
      "metadata": {
        "id": "XCfiEze3ZchC"
      },
      "source": [
        "### Put the data in the database."
      ]
    },
    {
      "cell_type": "code",
      "execution_count": null,
      "metadata": {
        "id": "bMMaE1EMZgcf"
      },
      "outputs": [],
      "source": [
        "df3.to_sql('tmp_FAKER', dbconn, index=0, if_exists='replace')"
      ]
    },
    {
      "attachments": {},
      "cell_type": "markdown",
      "metadata": {
        "id": "dcUXLEvtUAgc"
      },
      "source": [
        "At this point I want to save the data to the Colab instance in the folder 'DATA' which I am creating manually."
      ]
    },
    {
      "cell_type": "code",
      "execution_count": 43,
      "metadata": {
        "id": "CtXzkvpOrqjw"
      },
      "outputs": [],
      "source": [
        "# outfile = '/content/DATA/faker-02.csv # <- for online saving to G drive\n",
        "outfile = r\"C:\\Users\\Chuck\\Documents\\PROJECTS\\Hello-World\\FakeHR\\DATA\\test.csv\"\n",
        "df3.to_csv(outfile, header = True, index=False, encoding = 'utf-8-sig')"
      ]
    },
    {
      "attachments": {},
      "cell_type": "markdown",
      "metadata": {
        "id": "OfUTYxGLUdy-"
      },
      "source": [
        "## HOLD UP!\n",
        "___\n",
        "Here I go back up to 'Start' (see TOC) and create another faker file and save it in the DATA folder.  Remember to rename the file eg. faker-01.csv to faker-02.csv\n",
        "\n",
        "NOTE: I manualy created the 'DATA' folder\n",
        "___"
      ]
    },
    {
      "attachments": {},
      "cell_type": "markdown",
      "metadata": {
        "id": "A7DQDz9fzsYc"
      },
      "source": [
        "**TO CHATGPT:** <Write a Python script using pandas to combine data from multiple Excel spreadsheets located in the \"DATA\" folder.  The spreadsheets have column for \"FNAME\", \"MNAME\", \"LNAME\", \"SSN\", \"DOB\", \"OBD\", \"EMAIL\", \"SEX\", and \"LOCATION\".>"
      ]
    },
    {
      "cell_type": "code",
      "execution_count": null,
      "metadata": {
        "collapsed": true,
        "id": "1YHL9Tf2rpoY"
      },
      "outputs": [],
      "source": [
        "# Define the directory path where the CSV files are located\n",
        "directory = '/content/DATA/'\n",
        "\n",
        "# Initialize an empty DataFrame to store the combined data\n",
        "combined_data = pd.DataFrame()\n",
        "\n",
        "# Iterate over all files in the directory\n",
        "for filename in os.listdir(directory):\n",
        "    if filename.endswith(\".csv\"):\n",
        "        file_path = os.path.join(directory, filename)\n",
        "        df = pd.read_csv(file_path)\n",
        "        df['Source'] = filename  # Add 'Source' column with the filename\n",
        "        combined_data = combined_data.append(df, ignore_index=True)\n",
        "\n",
        "# Display the combined data\n",
        "print(combined_data)"
      ]
    },
    {
      "attachments": {},
      "cell_type": "markdown",
      "metadata": {
        "id": "-Vy4W4O135Do"
      },
      "source": [
        "Dropping these columns while I'm working with ChatGPT."
      ]
    },
    {
      "cell_type": "code",
      "execution_count": null,
      "metadata": {
        "id": "ihjsb1t02ilz"
      },
      "outputs": [],
      "source": [
        "combined_data.drop(['AGE', 'SERVICE_TIME'], axis=1, inplace=True)"
      ]
    },
    {
      "attachments": {},
      "cell_type": "markdown",
      "metadata": {
        "id": "wD7BcQA0wslC"
      },
      "source": [
        "**TO CHAT GPT: **<The \"DOB\" column is a date in the format YYYY-MM-DD.  Add a column to the dataframe that calculates age to nearest year>"
      ]
    },
    {
      "cell_type": "code",
      "execution_count": null,
      "metadata": {
        "id": "Srm1I2zCwZRv"
      },
      "outputs": [],
      "source": [
        "# Calculate age based on 'DOB' column\n",
        "combined_data['DOB'] = pd.to_datetime(combined_data['DOB'])  # Convert 'DOB' column to datetime\n",
        "combined_data['CALCULATED_AGE'] = (datetime.now() - combined_data['DOB']) // pd.Timedelta(days=365)  # Calculate age\n",
        "\n",
        "# Display the combined data with calculated age\n",
        "print(combined_data)"
      ]
    },
    {
      "cell_type": "code",
      "execution_count": null,
      "metadata": {
        "id": "1p5B6WrsW1KA"
      },
      "outputs": [],
      "source": [
        "# combined_data.drop(['CALCULATED_OBD_AGE'], axis=1, inplace=True)"
      ]
    },
    {
      "cell_type": "code",
      "execution_count": null,
      "metadata": {
        "id": "Gkr2M-ZjS2wc"
      },
      "outputs": [],
      "source": [
        "# Calculate SERVICE TIME based on 'OBD' column\n",
        "combined_data['OBD'] = pd.to_datetime(combined_data['OBD'])  # Convert 'OBD' column to datetime\n",
        "combined_data['SERVICE_TIME'] = (datetime.now() - combined_data['OBD']) // pd.Timedelta(days=365)  # Calculate age\n",
        "\n",
        "# Display the combined data with calculated OBD age\n",
        "print(combined_data)"
      ]
    },
    {
      "attachments": {},
      "cell_type": "markdown",
      "metadata": {
        "id": "Kd887r-Rsay8"
      },
      "source": [
        "I want the \"SOURCE\" column to be the last coumn on the right"
      ]
    },
    {
      "cell_type": "code",
      "execution_count": null,
      "metadata": {
        "id": "WaUC0gvxkS-D"
      },
      "outputs": [],
      "source": [
        "# Reorder columns and move 'Source' to the last column\n",
        "cols = list(combined_data.columns)\n",
        "cols.remove('Source')  # Remove 'Source' from current position\n",
        "cols.append('Source')  # Add 'Source' at the end\n",
        "combined_data = combined_data[cols]"
      ]
    },
    {
      "attachments": {},
      "cell_type": "markdown",
      "metadata": {
        "id": "WOV58D1OsmmM"
      },
      "source": [
        "## Check for the uniquness of the EMAIL address."
      ]
    },
    {
      "cell_type": "code",
      "execution_count": null,
      "metadata": {
        "id": "dst7uyAxrXd-"
      },
      "outputs": [],
      "source": [
        "combined_data['EMAIL'].is_unique \n"
      ]
    },
    {
      "attachments": {},
      "cell_type": "markdown",
      "metadata": {
        "id": "NGwglpQcswHk"
      },
      "source": [
        "Check for the uniquness of the SSN."
      ]
    },
    {
      "cell_type": "code",
      "execution_count": null,
      "metadata": {
        "id": "caANojdjrbox"
      },
      "outputs": [],
      "source": [
        "combined_data['SSN'].is_unique "
      ]
    },
    {
      "attachments": {},
      "cell_type": "markdown",
      "metadata": {
        "id": "pL7jakMfsz3R"
      },
      "source": [
        "## DELETE any people with duplicate EMAIL addresses. RIP!"
      ]
    },
    {
      "cell_type": "code",
      "execution_count": null,
      "metadata": {
        "id": "Zq0h3qIxr52H"
      },
      "outputs": [],
      "source": [
        "combined_data = combined_data.drop_duplicates(subset='EMAIL', keep=\"first\")\n",
        "combined_data.shape"
      ]
    },
    {
      "attachments": {},
      "cell_type": "markdown",
      "metadata": {
        "id": "MSLEWnc_dYOJ"
      },
      "source": [
        "### Drop and re-create the table in the database."
      ]
    },
    {
      "cell_type": "code",
      "execution_count": null,
      "metadata": {
        "id": "GhXd8n1FdPXk"
      },
      "outputs": [],
      "source": [
        "cursor = dbconn.cursor()\n",
        "cursor.execute('''DROP TABLE IF EXISTS tmp_FAKER''')\n",
        "dbconn.commit()"
      ]
    },
    {
      "attachments": {},
      "cell_type": "markdown",
      "metadata": {
        "id": "0VTXoCXAdkgr"
      },
      "source": [
        "### Put the data in the database."
      ]
    },
    {
      "cell_type": "code",
      "execution_count": null,
      "metadata": {
        "id": "6qQUzHz4djf4"
      },
      "outputs": [],
      "source": [
        "combined_data.to_sql('tmp_FAKER', dbconn, index=0, if_exists='replace')"
      ]
    }
  ],
  "metadata": {
    "colab": {
      "authorship_tag": "ABX9TyOMHej8/Eq5gKdpzXpEIYp/",
      "include_colab_link": true,
      "provenance": [],
      "toc_visible": true
    },
    "kernelspec": {
      "display_name": "Python 3",
      "name": "python3"
    },
    "language_info": {
      "codemirror_mode": {
        "name": "ipython",
        "version": 3
      },
      "file_extension": ".py",
      "mimetype": "text/x-python",
      "name": "python",
      "nbconvert_exporter": "python",
      "pygments_lexer": "ipython3",
      "version": "3.10.11"
    }
  },
  "nbformat": 4,
  "nbformat_minor": 0
}
