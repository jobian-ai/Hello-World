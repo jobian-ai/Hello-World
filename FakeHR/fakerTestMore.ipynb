{
 "cells": [
  {
   "attachments": {},
   "cell_type": "markdown",
   "metadata": {},
   "source": [
    "# Make some Fake Addresses"
   ]
  },
  {
   "cell_type": "code",
   "execution_count": 26,
   "metadata": {},
   "outputs": [],
   "source": [
    "from faker import Faker\n",
    "import sqlite3\n",
    "import pandas as pd\n",
    "import numpy as np\n",
    "from datetime import datetime, date, timedelta\n",
    "from dateutil.relativedelta import relativedelta\n",
    "import random\n",
    "import os"
   ]
  },
  {
   "cell_type": "code",
   "execution_count": 27,
   "metadata": {},
   "outputs": [],
   "source": [
    "# initialize a generator\n",
    "fake = Faker(['en-US', 'en_US', 'en_US', 'en-US'])"
   ]
  },
  {
   "attachments": {},
   "cell_type": "markdown",
   "metadata": {},
   "source": [
    "## Getting just the street address."
   ]
  },
  {
   "cell_type": "code",
   "execution_count": 28,
   "metadata": {},
   "outputs": [],
   "source": [
    "fake_address = [\n",
    "{'FADDRESS': fake.street_address()}\n",
    "for _ in range(500)]"
   ]
  },
  {
   "attachments": {},
   "cell_type": "markdown",
   "metadata": {},
   "source": [
    "## Convert the List to a Dataframe"
   ]
  },
  {
   "cell_type": "code",
   "execution_count": 29,
   "metadata": {},
   "outputs": [],
   "source": [
    "df2 = pd.DataFrame(fake_address)"
   ]
  },
  {
   "attachments": {},
   "cell_type": "markdown",
   "metadata": {},
   "source": [
    "## Get the Maryland local towns from file"
   ]
  },
  {
   "cell_type": "code",
   "execution_count": 30,
   "metadata": {},
   "outputs": [],
   "source": [
    "file = r\"C:\\Users\\Chuck\\Documents\\PROJECTS\\Hello-World\\FakeHR\\DATA\\MD_Zip_Code_Lookup_Table.csv\""
   ]
  },
  {
   "cell_type": "code",
   "execution_count": 31,
   "metadata": {},
   "outputs": [
    {
     "data": {
      "text/html": [
       "<div>\n",
       "<style scoped>\n",
       "    .dataframe tbody tr th:only-of-type {\n",
       "        vertical-align: middle;\n",
       "    }\n",
       "\n",
       "    .dataframe tbody tr th {\n",
       "        vertical-align: top;\n",
       "    }\n",
       "\n",
       "    .dataframe thead th {\n",
       "        text-align: right;\n",
       "    }\n",
       "</style>\n",
       "<table border=\"1\" class=\"dataframe\">\n",
       "  <thead>\n",
       "    <tr style=\"text-align: right;\">\n",
       "      <th></th>\n",
       "      <th>Zip Code</th>\n",
       "      <th>City</th>\n",
       "      <th>County</th>\n",
       "    </tr>\n",
       "  </thead>\n",
       "  <tbody>\n",
       "    <tr>\n",
       "      <th>0</th>\n",
       "      <td>20601</td>\n",
       "      <td>Waldorf</td>\n",
       "      <td>Charles County</td>\n",
       "    </tr>\n",
       "    <tr>\n",
       "      <th>1</th>\n",
       "      <td>20602</td>\n",
       "      <td>Waldorf</td>\n",
       "      <td>Charles County</td>\n",
       "    </tr>\n",
       "    <tr>\n",
       "      <th>2</th>\n",
       "      <td>20603</td>\n",
       "      <td>Waldorf</td>\n",
       "      <td>Charles County</td>\n",
       "    </tr>\n",
       "    <tr>\n",
       "      <th>3</th>\n",
       "      <td>20604</td>\n",
       "      <td>Waldorf</td>\n",
       "      <td>Charles County</td>\n",
       "    </tr>\n",
       "    <tr>\n",
       "      <th>4</th>\n",
       "      <td>20606</td>\n",
       "      <td>Abell</td>\n",
       "      <td>Saint Mary's County</td>\n",
       "    </tr>\n",
       "  </tbody>\n",
       "</table>\n",
       "</div>"
      ],
      "text/plain": [
       "   Zip Code     City               County\n",
       "0     20601  Waldorf       Charles County\n",
       "1     20602  Waldorf       Charles County\n",
       "2     20603  Waldorf       Charles County\n",
       "3     20604  Waldorf       Charles County\n",
       "4     20606    Abell  Saint Mary's County"
      ]
     },
     "execution_count": 31,
     "metadata": {},
     "output_type": "execute_result"
    }
   ],
   "source": [
    "df = pd.read_csv(file)\n",
    "df.head(5)"
   ]
  },
  {
   "attachments": {},
   "cell_type": "markdown",
   "metadata": {},
   "source": [
    "## Get random localities"
   ]
  },
  {
   "cell_type": "code",
   "execution_count": 32,
   "metadata": {},
   "outputs": [
    {
     "name": "stdout",
     "output_type": "stream",
     "text": [
      "     Zip Code           City               County\n",
      "50      20674    Piney Point  Saint Mary's County\n",
      "22      20625    Cobb Island       Charles County\n",
      "487     21685        Ridgely      Caroline County\n",
      "147     20810       Bethesda    Montgomery County\n",
      "362     21265      Baltimore       Baltimore City\n",
      "..        ...            ...                  ...\n",
      "490     21688        Ridgely      Caroline County\n",
      "387     21405      Annapolis  Anne Arundel County\n",
      "535     21770       Monrovia     Frederick County\n",
      "213     20908  Silver Spring    Montgomery County\n",
      "56      20682     Rock Point       Charles County\n",
      "\n",
      "[500 rows x 3 columns]\n"
     ]
    }
   ],
   "source": [
    "df = df.sample(n=500)\n",
    "\n",
    "print (df)"
   ]
  },
  {
   "attachments": {},
   "cell_type": "markdown",
   "metadata": {},
   "source": [
    "## Drop the indexes in preparation for the merge."
   ]
  },
  {
   "cell_type": "code",
   "execution_count": 33,
   "metadata": {},
   "outputs": [],
   "source": [
    "df.reset_index(drop=True, inplace=True)"
   ]
  },
  {
   "cell_type": "code",
   "execution_count": 34,
   "metadata": {},
   "outputs": [],
   "source": [
    "df2.reset_index(drop=True, inplace=True)"
   ]
  },
  {
   "attachments": {},
   "cell_type": "markdown",
   "metadata": {},
   "source": [
    "## Merge the two dataframes."
   ]
  },
  {
   "cell_type": "code",
   "execution_count": 35,
   "metadata": {},
   "outputs": [],
   "source": [
    "df3=pd.merge(df2,df, left_index=True, right_index=True)\n"
   ]
  },
  {
   "attachments": {},
   "cell_type": "markdown",
   "metadata": {},
   "source": [
    "## Add a State column to the dataframe."
   ]
  },
  {
   "cell_type": "code",
   "execution_count": 36,
   "metadata": {},
   "outputs": [],
   "source": [
    "df3['STATE']='MD'"
   ]
  },
  {
   "cell_type": "code",
   "execution_count": 38,
   "metadata": {},
   "outputs": [
    {
     "data": {
      "text/html": [
       "<div>\n",
       "<style scoped>\n",
       "    .dataframe tbody tr th:only-of-type {\n",
       "        vertical-align: middle;\n",
       "    }\n",
       "\n",
       "    .dataframe tbody tr th {\n",
       "        vertical-align: top;\n",
       "    }\n",
       "\n",
       "    .dataframe thead th {\n",
       "        text-align: right;\n",
       "    }\n",
       "</style>\n",
       "<table border=\"1\" class=\"dataframe\">\n",
       "  <thead>\n",
       "    <tr style=\"text-align: right;\">\n",
       "      <th></th>\n",
       "      <th>FADDRESS</th>\n",
       "      <th>City</th>\n",
       "      <th>STATE</th>\n",
       "      <th>Zip Code</th>\n",
       "      <th>County</th>\n",
       "    </tr>\n",
       "  </thead>\n",
       "  <tbody>\n",
       "    <tr>\n",
       "      <th>0</th>\n",
       "      <td>420 Haley Wells</td>\n",
       "      <td>Piney Point</td>\n",
       "      <td>MD</td>\n",
       "      <td>20674</td>\n",
       "      <td>Saint Mary's County</td>\n",
       "    </tr>\n",
       "    <tr>\n",
       "      <th>1</th>\n",
       "      <td>55432 Gary Port Suite 825</td>\n",
       "      <td>Cobb Island</td>\n",
       "      <td>MD</td>\n",
       "      <td>20625</td>\n",
       "      <td>Charles County</td>\n",
       "    </tr>\n",
       "    <tr>\n",
       "      <th>2</th>\n",
       "      <td>6503 Joseph Divide</td>\n",
       "      <td>Ridgely</td>\n",
       "      <td>MD</td>\n",
       "      <td>21685</td>\n",
       "      <td>Caroline County</td>\n",
       "    </tr>\n",
       "    <tr>\n",
       "      <th>3</th>\n",
       "      <td>70159 Mark Station</td>\n",
       "      <td>Bethesda</td>\n",
       "      <td>MD</td>\n",
       "      <td>20810</td>\n",
       "      <td>Montgomery County</td>\n",
       "    </tr>\n",
       "    <tr>\n",
       "      <th>4</th>\n",
       "      <td>4286 Powell Ferry Suite 533</td>\n",
       "      <td>Baltimore</td>\n",
       "      <td>MD</td>\n",
       "      <td>21265</td>\n",
       "      <td>Baltimore City</td>\n",
       "    </tr>\n",
       "    <tr>\n",
       "      <th>...</th>\n",
       "      <td>...</td>\n",
       "      <td>...</td>\n",
       "      <td>...</td>\n",
       "      <td>...</td>\n",
       "      <td>...</td>\n",
       "    </tr>\n",
       "    <tr>\n",
       "      <th>495</th>\n",
       "      <td>72701 Shannon Road</td>\n",
       "      <td>Ridgely</td>\n",
       "      <td>MD</td>\n",
       "      <td>21688</td>\n",
       "      <td>Caroline County</td>\n",
       "    </tr>\n",
       "    <tr>\n",
       "      <th>496</th>\n",
       "      <td>2859 Amy Pass Suite 881</td>\n",
       "      <td>Annapolis</td>\n",
       "      <td>MD</td>\n",
       "      <td>21405</td>\n",
       "      <td>Anne Arundel County</td>\n",
       "    </tr>\n",
       "    <tr>\n",
       "      <th>497</th>\n",
       "      <td>197 Alexander Expressway</td>\n",
       "      <td>Monrovia</td>\n",
       "      <td>MD</td>\n",
       "      <td>21770</td>\n",
       "      <td>Frederick County</td>\n",
       "    </tr>\n",
       "    <tr>\n",
       "      <th>498</th>\n",
       "      <td>487 Wright Meadows</td>\n",
       "      <td>Silver Spring</td>\n",
       "      <td>MD</td>\n",
       "      <td>20908</td>\n",
       "      <td>Montgomery County</td>\n",
       "    </tr>\n",
       "    <tr>\n",
       "      <th>499</th>\n",
       "      <td>04190 Ronald Harbor</td>\n",
       "      <td>Rock Point</td>\n",
       "      <td>MD</td>\n",
       "      <td>20682</td>\n",
       "      <td>Charles County</td>\n",
       "    </tr>\n",
       "  </tbody>\n",
       "</table>\n",
       "<p>500 rows × 5 columns</p>\n",
       "</div>"
      ],
      "text/plain": [
       "                        FADDRESS           City STATE  Zip Code  \\\n",
       "0                420 Haley Wells    Piney Point    MD     20674   \n",
       "1      55432 Gary Port Suite 825    Cobb Island    MD     20625   \n",
       "2             6503 Joseph Divide        Ridgely    MD     21685   \n",
       "3             70159 Mark Station       Bethesda    MD     20810   \n",
       "4    4286 Powell Ferry Suite 533      Baltimore    MD     21265   \n",
       "..                           ...            ...   ...       ...   \n",
       "495           72701 Shannon Road        Ridgely    MD     21688   \n",
       "496      2859 Amy Pass Suite 881      Annapolis    MD     21405   \n",
       "497     197 Alexander Expressway       Monrovia    MD     21770   \n",
       "498           487 Wright Meadows  Silver Spring    MD     20908   \n",
       "499          04190 Ronald Harbor     Rock Point    MD     20682   \n",
       "\n",
       "                  County  \n",
       "0    Saint Mary's County  \n",
       "1         Charles County  \n",
       "2        Caroline County  \n",
       "3      Montgomery County  \n",
       "4         Baltimore City  \n",
       "..                   ...  \n",
       "495      Caroline County  \n",
       "496  Anne Arundel County  \n",
       "497     Frederick County  \n",
       "498    Montgomery County  \n",
       "499       Charles County  \n",
       "\n",
       "[500 rows x 5 columns]"
      ]
     },
     "execution_count": 38,
     "metadata": {},
     "output_type": "execute_result"
    }
   ],
   "source": [
    "df3.iloc[:,[0,2,4,1,3]]"
   ]
  }
 ],
 "metadata": {
  "kernelspec": {
   "display_name": "venv",
   "language": "python",
   "name": "python3"
  },
  "language_info": {
   "codemirror_mode": {
    "name": "ipython",
    "version": 3
   },
   "file_extension": ".py",
   "mimetype": "text/x-python",
   "name": "python",
   "nbconvert_exporter": "python",
   "pygments_lexer": "ipython3",
   "version": "3.10.11"
  },
  "orig_nbformat": 4
 },
 "nbformat": 4,
 "nbformat_minor": 2
}
