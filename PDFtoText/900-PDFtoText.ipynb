{
 "cells": [
  {
   "cell_type": "markdown",
   "metadata": {},
   "source": [
    "## Following a Youtube Tutorial\n",
    "[Python Automation Series #9 : How to extract a page from a PDF file with Python ](https://www.youtube.com/watch?v=fvYRBS_prnc)\n",
    "\n",
    "> virtualenv venv\n",
    "\n",
    "> source venv/bin/activate\n",
    "\n",
    "### Uses PY2PDF module\n",
    "\n",
    "> pip install PyPDF2\n",
    "\n",
    "Make sure you've selected the right Python environment.  Needs the 'venv' one in this case."
   ]
  },
  {
   "cell_type": "code",
   "execution_count": null,
   "metadata": {},
   "outputs": [],
   "source": [
    "import PyPDF2"
   ]
  },
  {
   "cell_type": "code",
   "execution_count": null,
   "metadata": {},
   "outputs": [],
   "source": [
    "# Create a PDF File Object\n",
    "pdfFileObject = open('DATA/SCRIBD-Read Flights Of Fancy Online (ft.D.W. Pasulka).pdf', 'rb')"
   ]
  },
  {
   "cell_type": "code",
   "execution_count": null,
   "metadata": {},
   "outputs": [],
   "source": [
    "# Create a PDF reader object\n",
    "pdfReader = PyPDF2.PdfFileReader(pdfFileObject)\n"
   ]
  },
  {
   "cell_type": "code",
   "execution_count": null,
   "metadata": {},
   "outputs": [],
   "source": [
    "# Print the number of pages\n",
    "print('The number of pages in this book is:', pdfReader.numPages, 'pages.')"
   ]
  },
  {
   "cell_type": "code",
   "execution_count": null,
   "metadata": {},
   "outputs": [],
   "source": [
    "# Create a page object\n",
    "pageObject = pdfReader.getPage(4)"
   ]
  },
  {
   "cell_type": "code",
   "execution_count": null,
   "metadata": {},
   "outputs": [],
   "source": [
    "\n",
    "# Extract the page\n",
    "print(pageObject.extractText())\n"
   ]
  },
  {
   "cell_type": "code",
   "execution_count": null,
   "metadata": {},
   "outputs": [],
   "source": [
    "# Close the PDF file object\n",
    "pdfFileObject.close()"
   ]
  }
 ],
 "metadata": {
  "kernelspec": {
   "display_name": "Python 3.10.5 ('venv': venv)",
   "language": "python",
   "name": "python3"
  },
  "language_info": {
   "codemirror_mode": {
    "name": "ipython",
    "version": 3
   },
   "file_extension": ".py",
   "mimetype": "text/x-python",
   "name": "python",
   "nbconvert_exporter": "python",
   "pygments_lexer": "ipython3",
   "version": "3.10.5"
  },
  "orig_nbformat": 4,
  "vscode": {
   "interpreter": {
    "hash": "f8304e5b73cb7bcc1043965df7ef47b9d8f5e199008168b199c21bf113e86c65"
   }
  }
 },
 "nbformat": 4,
 "nbformat_minor": 2
}
