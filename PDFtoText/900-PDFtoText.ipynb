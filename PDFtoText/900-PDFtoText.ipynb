{
 "cells": [
  {
   "cell_type": "markdown",
   "metadata": {},
   "source": [
    "## Following a Youtube Tutorial\n",
    "[Python Automation Series #9 : How to extract a page from a PDF file with Python ](https://www.youtube.com/watch?v=fvYRBS_prnc)"
   ]
  }
 ],
 "metadata": {
  "language_info": {
   "name": "python"
  },
  "orig_nbformat": 4
 },
 "nbformat": 4,
 "nbformat_minor": 2
}
