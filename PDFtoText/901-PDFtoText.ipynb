{
 "cells": [
  {
   "cell_type": "markdown",
   "metadata": {},
   "source": [
    "## Following a Youtube Tutorial\n",
    "[Python Automation Series #9 : How to extract a page from a PDF file with Python ](https://www.youtube.com/watch?v=fvYRBS_prnc)\n",
    "\n",
    "> virtualenv venv\n",
    "\n",
    "> source venv/bin/activate\n",
    "\n",
    "### Uses PY2PDF module\n",
    "\n",
    "> pip install PyPDF2\n",
    "\n",
    "Make sure you've selected the right Python environment.  Needs the 'venv' one in this case."
   ]
  },
  {
   "cell_type": "code",
   "execution_count": 3,
   "metadata": {},
   "outputs": [],
   "source": [
    "from PyPDF2 import PdfFileReader, PdfFileWriter"
   ]
  },
  {
   "cell_type": "code",
   "execution_count": 4,
   "metadata": {},
   "outputs": [],
   "source": [
    "file_path = 'DATA/SCRIBD-Read Flights Of Fancy Online (ft.D.W. Pasulka).pdf'\n",
    "pdf = PdfFileReader(file_path)"
   ]
  },
  {
   "cell_type": "code",
   "execution_count": 5,
   "metadata": {},
   "outputs": [
    {
     "name": "stdout",
     "output_type": "stream",
     "text": [
      "----------------------------------------------------------------------------------------------------\n",
      "----------------------------------------------------------------------------------------------------\n",
      "----------------------------------------------------------------------------------------------------\n",
      "----------------------------------------------------------------------------------------------------\n",
      "----------------------------------------------------------------------------------------------------\n",
      "----------------------------------------------------------------------------------------------------\n",
      "----------------------------------------------------------------------------------------------------\n",
      "----------------------------------------------------------------------------------------------------\n",
      "----------------------------------------------------------------------------------------------------\n",
      "----------------------------------------------------------------------------------------------------\n",
      "----------------------------------------------------------------------------------------------------\n",
      "----------------------------------------------------------------------------------------------------\n"
     ]
    }
   ],
   "source": [
    "with open('pasulka_pdf_convert.txt', 'w') as f:\n",
    "    for page_num in range(pdf.numPages):\n",
    "        # print('Page: {0}'.format(page_num))\n",
    "        pageObj = pdf.getPage(page_num)\n",
    "\n",
    "        try: \n",
    "            txt = pageObj.extractText()\n",
    "            print(''.center(100, '-'))\n",
    "        except:\n",
    "            pass\n",
    "        else:\n",
    "            f.write('Page {0}\\n'.format(page_num+1))\n",
    "            f.write(''.center(100, '-'))\n",
    "            f.write(txt)\n",
    "    f.close()"
   ]
  }
 ],
 "metadata": {
  "kernelspec": {
   "display_name": "Python 3.10.5 ('venv': venv)",
   "language": "python",
   "name": "python3"
  },
  "language_info": {
   "codemirror_mode": {
    "name": "ipython",
    "version": 3
   },
   "file_extension": ".py",
   "mimetype": "text/x-python",
   "name": "python",
   "nbconvert_exporter": "python",
   "pygments_lexer": "ipython3",
   "version": "3.10.5"
  },
  "orig_nbformat": 4,
  "vscode": {
   "interpreter": {
    "hash": "f8304e5b73cb7bcc1043965df7ef47b9d8f5e199008168b199c21bf113e86c65"
   }
  }
 },
 "nbformat": 4,
 "nbformat_minor": 2
}
