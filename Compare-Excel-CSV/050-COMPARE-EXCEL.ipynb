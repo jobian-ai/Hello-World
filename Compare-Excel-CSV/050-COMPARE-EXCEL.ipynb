{
 "cells": [
  {
   "cell_type": "markdown",
   "metadata": {},
   "source": [
    "### Compare Two (2) Excel files tutorial\n",
    "# NOT USEFUL!"
   ]
  },
  {
   "cell_type": "code",
   "execution_count": 1,
   "metadata": {},
   "outputs": [],
   "source": [
    "import pandas as pd\n",
    "import numpy as np"
   ]
  },
  {
   "cell_type": "markdown",
   "metadata": {},
   "source": [
    "Read in the two files into dataframes"
   ]
  },
  {
   "cell_type": "code",
   "execution_count": 2,
   "metadata": {},
   "outputs": [],
   "source": [
    "df01=pd.read_excel('/home/chuck/Projects/jobian-ai/FakeHR/DATA/001_random_people.xlsx')\n",
    "# df01.head()\n",
    "df02=pd.read_excel('/home/chuck/Projects/jobian-ai/FakeHR/DATA/002_random_people.xlsx')"
   ]
  },
  {
   "cell_type": "markdown",
   "metadata": {},
   "source": [
    "Just see if they are identical.  Will output \"True\" or \"False\""
   ]
  },
  {
   "cell_type": "code",
   "execution_count": 3,
   "metadata": {},
   "outputs": [
    {
     "name": "stdout",
     "output_type": "stream",
     "text": [
      "False\n"
     ]
    }
   ],
   "source": [
    "print(df01.equals(df02))"
   ]
  },
  {
   "cell_type": "code",
   "execution_count": 4,
   "metadata": {},
   "outputs": [],
   "source": [
    "df01.rename(columns = lambda x : x + '_file1', inplace = True)\n",
    "df02.rename(columns = lambda x : x + '_file2', inplace = True)"
   ]
  },
  {
   "cell_type": "code",
   "execution_count": 5,
   "metadata": {},
   "outputs": [],
   "source": [
    "df_join = df01.merge(right = df02,\n",
    "                    left_on = df01.columns.to_list(),\n",
    "                    right_on = df02.columns.to_list(),\n",
    "                    how = 'outer')"
   ]
  },
  {
   "cell_type": "code",
   "execution_count": 6,
   "metadata": {},
   "outputs": [],
   "source": [
    "records_present_in_df01_not_in_df02 = df_join.loc[df_join[df02.columns.to_list()].isnull().all(axis = 1), df01.columns.to_list()]"
   ]
  },
  {
   "cell_type": "code",
   "execution_count": 7,
   "metadata": {},
   "outputs": [],
   "source": [
    "records_present_in_df02_not_in_df10 = df_join.loc[df_join[df01.columns.to_list()].isnull().all(axis = 1), df02.columns.to_list()]"
   ]
  }
 ],
 "metadata": {
  "interpreter": {
   "hash": "7d53f0173198cd87169442a0e34f4d647e98607e00391df276ea3bd7e218cf48"
  },
  "kernelspec": {
   "display_name": "Python 3.10.2 ('venv': venv)",
   "language": "python",
   "name": "python3"
  },
  "language_info": {
   "codemirror_mode": {
    "name": "ipython",
    "version": 3
   },
   "file_extension": ".py",
   "mimetype": "text/x-python",
   "name": "python",
   "nbconvert_exporter": "python",
   "pygments_lexer": "ipython3",
   "version": "3.10.2"
  },
  "orig_nbformat": 4
 },
 "nbformat": 4,
 "nbformat_minor": 2
}
