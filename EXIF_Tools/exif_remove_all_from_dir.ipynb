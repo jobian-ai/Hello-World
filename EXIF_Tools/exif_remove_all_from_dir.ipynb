{
 "cells": [
  {
   "cell_type": "markdown",
   "metadata": {},
   "source": [
    "## Removing EXIF data from an entire directory of files"
   ]
  },
  {
   "cell_type": "code",
   "execution_count": null,
   "metadata": {},
   "outputs": [],
   "source": [
    "import os\n",
    "import piexif\n",
    "import pprintpp as pp # Only nessessary if checking a single file."
   ]
  },
  {
   "cell_type": "markdown",
   "metadata": {},
   "source": [
    "### To Check EXIF data in a single file run this:\n",
    "### Otherwise skip to next step"
   ]
  },
  {
   "cell_type": "code",
   "execution_count": null,
   "metadata": {},
   "outputs": [],
   "source": [
    "# Will return an error if no exif data is present\n",
    "from PIL import Image\n",
    "from PIL.ExifTags import TAGS\n",
    "img_file = r\"C:\\Users\\Chuck\\Pictures\\Nikon-2020\\DSCN1643.JPG\"\n",
    "image = Image.open(img_file)\n",
    "exif = {}\n",
    "for tag, value in image._getexif().items():\n",
    "    if tag in TAGS:\n",
    "        exif[TAGS[tag]] = value\n",
    "pp.pprint(exif)"
   ]
  },
  {
   "cell_type": "code",
   "execution_count": null,
   "metadata": {},
   "outputs": [],
   "source": [
    "\n",
    "rootdir = r\"C:\\Users\\Chuck\\Pictures\\make_safe\"\n",
    "\n",
    "def noMeta(file):\n",
    "  print(\"gutting exif data from {}\".format(file))\n",
    "  piexif.remove(file)"
   ]
  },
  {
   "cell_type": "code",
   "execution_count": null,
   "metadata": {},
   "outputs": [],
   "source": [
    "\n",
    "for root, dir, files in os.walk(rootdir):\n",
    "  for file in files:\n",
    "    if file.lower().endswith(\".jpg\"):\n",
    "      noMeta(os.path.join(root, file))"
   ]
  }
 ],
 "metadata": {
  "interpreter": {
   "hash": "abd9f8ab4130fc509264dbd2171bfb8217e7f12a0297826418086037c038770f"
  },
  "kernelspec": {
   "display_name": "Python 3.9.7 64-bit",
   "language": "python",
   "name": "python3"
  },
  "language_info": {
   "codemirror_mode": {
    "name": "ipython",
    "version": 3
   },
   "file_extension": ".py",
   "mimetype": "text/x-python",
   "name": "python",
   "nbconvert_exporter": "python",
   "pygments_lexer": "ipython3",
   "version": "3.9.7"
  },
  "orig_nbformat": 4
 },
 "nbformat": 4,
 "nbformat_minor": 2
}
