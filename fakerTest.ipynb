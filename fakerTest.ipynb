{
  "nbformat": 4,
  "nbformat_minor": 0,
  "metadata": {
    "colab": {
      "provenance": [],
      "toc_visible": true,
      "authorship_tag": "ABX9TyOMHej8/Eq5gKdpzXpEIYp/",
      "include_colab_link": true
    },
    "kernelspec": {
      "name": "python3",
      "display_name": "Python 3"
    },
    "language_info": {
      "name": "python"
    }
  },
  "cells": [
    {
      "cell_type": "markdown",
      "metadata": {
        "id": "view-in-github",
        "colab_type": "text"
      },
      "source": [
        "<a href=\"https://colab.research.google.com/github/jobian-ai/Hello-World/blob/main/fakerTest.ipynb\" target=\"_parent\"><img src=\"https://colab.research.google.com/assets/colab-badge.svg\" alt=\"Open In Colab\"/></a>"
      ]
    },
    {
      "cell_type": "markdown",
      "source": [
        "Install dependent modules"
      ],
      "metadata": {
        "id": "AbJrfIDv95XE"
      }
    },
    {
      "cell_type": "code",
      "source": [
        "pip install Faker\n"
      ],
      "metadata": {
        "id": "MQY_Z7Dm9D4J"
      },
      "execution_count": null,
      "outputs": []
    },
    {
      "cell_type": "markdown",
      "source": [
        "### Import modules"
      ],
      "metadata": {
        "id": "qV3WHDpG-Bd9"
      }
    },
    {
      "cell_type": "code",
      "execution_count": null,
      "metadata": {
        "id": "fm1FKv4U8GCq"
      },
      "outputs": [],
      "source": [
        "from faker import Faker\n",
        "import sqlite3\n",
        "import pandas as pd\n",
        "import numpy as np\n",
        "from datetime import datetime, date, timedelta\n",
        "from dateutil.relativedelta import relativedelta\n",
        "import random\n",
        "import os\n"
      ]
    },
    {
      "cell_type": "markdown",
      "source": [
        "---\n",
        "# Connect to the database\n",
        "\n",
        "\n"
      ],
      "metadata": {
        "id": "t2uhFMkb9cr6"
      }
    },
    {
      "cell_type": "code",
      "source": [
        "dbconn = sqlite3.connect('FakeHR.db') # permanent database\n",
        "print(dbconn) # Check the connection to the database."
      ],
      "metadata": {
        "id": "YmarMQPs91G9"
      },
      "execution_count": null,
      "outputs": []
    },
    {
      "cell_type": "code",
      "source": [
        "cursor = dbconn.cursor()\n",
        "cursor"
      ],
      "metadata": {
        "id": "jLp1zj26-Rfk"
      },
      "execution_count": null,
      "outputs": []
    },
    {
      "cell_type": "markdown",
      "source": [
        "# Working with Faker"
      ],
      "metadata": {
        "id": "XfNpeX2B-vi1"
      }
    },
    {
      "cell_type": "code",
      "source": [
        "# initialize a generator\n",
        "fake = Faker()"
      ],
      "metadata": {
        "id": "RSj3v6al-zyZ"
      },
      "execution_count": null,
      "outputs": []
    },
    {
      "cell_type": "markdown",
      "source": [
        "### Born after starting at job - Problem.\n",
        "\n",
        "Issue with having Faker generate fake Hire Dates (OBD's) and Date of Births (DOB's) is that they aren't realistic.  Could be born after the Hire Date.  Hence, I used the approach (found here)[https://www.tonic.ai/blog/how-to-generate-simple-test-data-with-faker]\n",
        "\n",
        "Defining a function that links the DOB and OBD's"
      ],
      "metadata": {
        "id": "HbW67pQH5l9F"
      }
    },
    {
      "cell_type": "code",
      "source": [
        "def birth_and_start_date(x):\n",
        "   sd = fake.date_between(start_date=\"-30y\", end_date=\"now\")\n",
        "   delta = timedelta(days=365*random.randint(22,52))\n",
        "   bd = sd-delta\n",
        "\n",
        "   return {'DOB':bd, 'OBD': sd}"
      ],
      "metadata": {
        "id": "AD1lpR9f6o0Z"
      },
      "execution_count": null,
      "outputs": []
    },
    {
      "cell_type": "markdown",
      "source": [
        "___\n",
        "# Start \n",
        "\n",
        "## Creating the faker file here\n",
        "___"
      ],
      "metadata": {
        "id": "pbfIXX0aVF3k"
      }
    },
    {
      "cell_type": "markdown",
      "source": [
        "### Generating for the gents. . ."
      ],
      "metadata": {
        "id": "x4GDg_XX665c"
      }
    },
    {
      "cell_type": "code",
      "source": [
        "# 'LINKED_DATES':birth_and_start_date.(x=[0])}\n",
        "fake_gents = [\n",
        "{'MALE_FN': fake.first_name_male(), 'MALE_MN': fake.first_name_male(), 'MALE_LN': fake.last_name_male(),\n",
        "'SSN':fake.ssn()}\n",
        "for _ in range(500)]"
      ],
      "metadata": {
        "id": "5E_03TvN5iOH"
      },
      "execution_count": null,
      "outputs": []
    },
    {
      "cell_type": "code",
      "source": [
        "df = pd.DataFrame(fake_gents)\n",
        "df.head()"
      ],
      "metadata": {
        "id": "QoIomByd7coG"
      },
      "execution_count": null,
      "outputs": []
    },
    {
      "cell_type": "markdown",
      "source": [
        "### Coverting to a dataframe"
      ],
      "metadata": {
        "id": "SbsRfJqpSHyA"
      }
    },
    {
      "cell_type": "code",
      "source": [
        "df = pd.DataFrame(fake_gents)"
      ],
      "metadata": {
        "id": "9jUIhnU1QjVr"
      },
      "execution_count": null,
      "outputs": []
    },
    {
      "cell_type": "markdown",
      "source": [
        "### Appending the DOB and OBD date columns"
      ],
      "metadata": {
        "id": "cgMbE_y4SNQd"
      }
    },
    {
      "cell_type": "markdown",
      "source": [
        "(Multiple column help)[https://www.pauldesalvo.com/how-to-return-multiple-columns-from-pandas-using-the-apply-function/]"
      ],
      "metadata": {
        "id": "KhZ6hlP5RNg-"
      }
    },
    {
      "cell_type": "code",
      "source": [
        "df[['DOB', 'OBD']] = df.apply(birth_and_start_date, axis=1, result_type ='expand')"
      ],
      "metadata": {
        "id": "LE24db9UQyPp"
      },
      "execution_count": null,
      "outputs": []
    },
    {
      "cell_type": "code",
      "source": [
        "df.head()"
      ],
      "metadata": {
        "id": "4qradndnQ6En"
      },
      "execution_count": null,
      "outputs": []
    },
    {
      "cell_type": "markdown",
      "source": [
        "### Creating a Full Name field"
      ],
      "metadata": {
        "id": "BXLN1OcsRaNG"
      }
    },
    {
      "cell_type": "code",
      "source": [
        "df['FULL_NAME'] = df['MALE_LN'] + (', ' + df['MALE_FN'])  + (' '+ df['MALE_MN'].str[0])"
      ],
      "metadata": {
        "id": "368f4eJmRicj"
      },
      "execution_count": null,
      "outputs": []
    },
    {
      "cell_type": "markdown",
      "source": [
        "### Creating the email address based on first & last names"
      ],
      "metadata": {
        "id": "TMk-yV3WSZE0"
      }
    },
    {
      "cell_type": "code",
      "source": [
        "df['EMAIL'] = df['MALE_FN'].str[0] + (df['MALE_LN'] + ('@FEDERAL.GOV'))\n",
        "df['EMAIL'] = df['EMAIL'].str.lower()"
      ],
      "metadata": {
        "id": "lUBBNduUSgGw"
      },
      "execution_count": null,
      "outputs": []
    },
    {
      "cell_type": "markdown",
      "source": [
        "### Adding a column for Sex."
      ],
      "metadata": {
        "id": "_FeKqU2_Sl6h"
      }
    },
    {
      "cell_type": "code",
      "source": [
        "df['SEX'] = ('M')"
      ],
      "metadata": {
        "id": "B8fA2H33SpSH"
      },
      "execution_count": null,
      "outputs": []
    },
    {
      "cell_type": "markdown",
      "source": [
        "### Converting the datetime to dates\n",
        "\n",
        "I like to see just the dates.\n",
        "\n",
        "I'm also apply a sort here."
      ],
      "metadata": {
        "id": "Yygp0xDhS9NZ"
      }
    },
    {
      "cell_type": "code",
      "source": [
        "df.sort_values(by=['OBD'], inplace=True)"
      ],
      "metadata": {
        "id": "X0AZD5O4VSpa"
      },
      "execution_count": null,
      "outputs": []
    },
    {
      "cell_type": "code",
      "source": [
        "df['OBD']= pd.to_datetime(df['OBD']) # This line converts the string 'date' to a real datetime\n",
        "df['OBD']= df['OBD'].dt.date # This line strips the time data off and leave just a date\n",
        "df['DOB']= pd.to_datetime(df['DOB']) # This line converts the string 'date' to a real datetime\n",
        "df['DOB']= df['DOB'].dt.date # This line strips the time data off and leave just a date\n",
        "df.head(5)"
      ],
      "metadata": {
        "id": "SYdGKd3XSxf3"
      },
      "execution_count": null,
      "outputs": []
    },
    {
      "cell_type": "markdown",
      "source": [
        "### Testing for uniquness of Email / SSN"
      ],
      "metadata": {
        "id": "Eb4pYPVtTZs2"
      }
    },
    {
      "cell_type": "code",
      "source": [
        "df['EMAIL'].is_unique \n",
        "# df['SSN'].is_unique "
      ],
      "metadata": {
        "id": "296PuuRYTVLO"
      },
      "execution_count": null,
      "outputs": []
    },
    {
      "cell_type": "markdown",
      "source": [
        "___"
      ],
      "metadata": {
        "id": "525fjWL9T96D"
      }
    },
    {
      "cell_type": "markdown",
      "source": [
        "## Creating the Female \"Workers\""
      ],
      "metadata": {
        "id": "zI2hFyBWTv-u"
      }
    },
    {
      "cell_type": "code",
      "source": [
        "fake_ladies = [\n",
        "{'FEMALE_FN': fake.first_name_female(), 'FEMALE_MN': fake.first_name_female(), 'FEMALE_LN': fake.last_name_female(),\n",
        "'SSN':fake.ssn()}\n",
        "for _ in range(500)]"
      ],
      "metadata": {
        "id": "-0Dcq0vAT02p"
      },
      "execution_count": null,
      "outputs": []
    },
    {
      "cell_type": "code",
      "source": [
        "df2 = pd.DataFrame(fake_ladies)"
      ],
      "metadata": {
        "id": "6rCbsGm9UCW9"
      },
      "execution_count": null,
      "outputs": []
    },
    {
      "cell_type": "code",
      "source": [
        "df2[['DOB', 'OBD']] = df2.apply(birth_and_start_date, axis=1, result_type ='expand')"
      ],
      "metadata": {
        "id": "1-X9eTxBULsK"
      },
      "execution_count": null,
      "outputs": []
    },
    {
      "cell_type": "code",
      "source": [
        "df2['FULL_NAME'] = df2['FEMALE_LN'] + (', ' + df2['FEMALE_FN'])  + (' '+ df2['FEMALE_MN'].str[0])\n",
        "df2['EMAIL'] = df2['FEMALE_FN'].str[0] + (df2['FEMALE_LN'] + ('@FEDERAL.GOV'))\n",
        "df2['EMAIL'] = df2['EMAIL'].str.lower()\n",
        "df2['SEX'] = ('F')\n"
      ],
      "metadata": {
        "id": "HrU00NnoUFCB"
      },
      "execution_count": null,
      "outputs": []
    },
    {
      "cell_type": "code",
      "source": [
        "df2.sort_values(by=['OBD'], inplace=True)"
      ],
      "metadata": {
        "id": "BH7xzuNwVm4W"
      },
      "execution_count": null,
      "outputs": []
    },
    {
      "cell_type": "code",
      "source": [
        "df2['OBD']= pd.to_datetime(df2['OBD']) # This line converts the string 'date' to a real datetime\n",
        "df2['OBD']= df2['OBD'].dt.date # This line strips the time data off and leave just a date\n",
        "df2['DOB']= pd.to_datetime(df2['DOB']) # This line converts the string 'date' to a real datetime\n",
        "df2['DOB']= df2['DOB'].dt.date # This line strips the time data off and leave just a date\n",
        "df2.head(5)"
      ],
      "metadata": {
        "id": "3XFV0s5MUUQl"
      },
      "execution_count": null,
      "outputs": []
    },
    {
      "cell_type": "markdown",
      "source": [
        "### Renaming the columns so the injest does not fail."
      ],
      "metadata": {
        "id": "M-95n7JSWNay"
      }
    },
    {
      "cell_type": "code",
      "source": [
        "df = df.rename(columns={\"MALE_FN\":\"FNAME\", \"MALE_MN\":\"MNAME\",\"MALE_LN\":\"LNAME\"})\n",
        "df2 = df2.rename(columns={\"FEMALE_FN\":\"FNAME\", \"FEMALE_MN\":\"MNAME\",\"FEMALE_LN\":\"LNAME\"})"
      ],
      "metadata": {
        "id": "foCTftjxWTWc"
      },
      "execution_count": null,
      "outputs": []
    },
    {
      "cell_type": "code",
      "source": [
        "frames = [df, df2]"
      ],
      "metadata": {
        "id": "euQS06UZWvGJ"
      },
      "execution_count": null,
      "outputs": []
    },
    {
      "cell_type": "code",
      "source": [
        "df3 = pd.concat(frames)\n",
        "df3.sort_values(by=['OBD'], inplace=True)\n",
        "df3.head(5)"
      ],
      "metadata": {
        "id": "dyo8-fTwWzDO"
      },
      "execution_count": null,
      "outputs": []
    },
    {
      "cell_type": "code",
      "source": [
        "df3.dtypes"
      ],
      "metadata": {
        "id": "RmSdYnPMXXy8"
      },
      "execution_count": null,
      "outputs": []
    },
    {
      "cell_type": "code",
      "source": [
        "df3.shape"
      ],
      "metadata": {
        "id": "FVL4uROIXuBn"
      },
      "execution_count": null,
      "outputs": []
    },
    {
      "cell_type": "markdown",
      "source": [
        "### Dropping the duplicate email addresses. We will do this again at the end.\n",
        "\n",
        "\n",
        "\n"
      ],
      "metadata": {
        "id": "g0zw05c8XkGf"
      }
    },
    {
      "cell_type": "code",
      "source": [
        "df3 = df3.drop_duplicates(subset='EMAIL', keep=\"first\")\n",
        "df3.shape"
      ],
      "metadata": {
        "id": "STeUaavnXp1-"
      },
      "execution_count": null,
      "outputs": []
    },
    {
      "cell_type": "markdown",
      "source": [
        "### Time calculations\n",
        "\n",
        "I wanted to check how old and how long people worked there."
      ],
      "metadata": {
        "id": "NiXx6Nj_X3F2"
      }
    },
    {
      "cell_type": "markdown",
      "source": [
        "Had to covert back to datetime first!!"
      ],
      "metadata": {
        "id": "NqPOm5zFYK0e"
      }
    },
    {
      "cell_type": "code",
      "source": [
        "df3['DOB']= pd.to_datetime(df3['DOB'])\n",
        "df3['OBD']= pd.to_datetime(df3['OBD'])\n"
      ],
      "metadata": {
        "id": "tzoTZJF2YIBK"
      },
      "execution_count": null,
      "outputs": []
    },
    {
      "cell_type": "code",
      "source": [
        "current_datetime = datetime.now()\n",
        "dt = current_datetime.date()\n",
        "dt_tomorrow = dt + timedelta(days=1)\n",
        "dt"
      ],
      "metadata": {
        "id": "1g8rU36wYTPs"
      },
      "execution_count": null,
      "outputs": []
    },
    {
      "cell_type": "markdown",
      "source": [
        "### A function."
      ],
      "metadata": {
        "id": "lBMRNopmYXHP"
      }
    },
    {
      "cell_type": "code",
      "source": [
        "def f(end):\n",
        "    # r = relativedelta(pd.to_datetime('now'), end) \n",
        "    r = relativedelta(pd.to_datetime(dt_tomorrow), end) \n",
        "    # return '{} years' .format(r.years)  # This line adds the word \"years\" into the field.\n",
        "    return '{}' .format(r.years)"
      ],
      "metadata": {
        "id": "ouw5NeNcYZ_v"
      },
      "execution_count": null,
      "outputs": []
    },
    {
      "cell_type": "code",
      "source": [
        "df3['AGE'] = df3[\"DOB\"].apply(f)"
      ],
      "metadata": {
        "id": "OzncwnwyYez6"
      },
      "execution_count": null,
      "outputs": []
    },
    {
      "cell_type": "code",
      "source": [
        "df3['SERVICE_TIME'] = df3[\"OBD\"].apply(f)"
      ],
      "metadata": {
        "id": "bpn9sKNIYgvy"
      },
      "execution_count": null,
      "outputs": []
    },
    {
      "cell_type": "code",
      "source": [
        "df3.head(10)"
      ],
      "metadata": {
        "id": "7SqhFN3iYmks"
      },
      "execution_count": null,
      "outputs": []
    },
    {
      "cell_type": "markdown",
      "source": [
        "### Getting back to just Dates.\n",
        "\n",
        "Not datetime."
      ],
      "metadata": {
        "id": "K3u6PNuoY0io"
      }
    },
    {
      "cell_type": "code",
      "source": [
        "df3['OBD']= pd.to_datetime(df3['OBD']) # This line converts the string 'date' to a real datetime\n",
        "df3['OBD']= df3['OBD'].dt.date # This line strips the time data off and leave just a date\n",
        "df3['DOB']= pd.to_datetime(df3['DOB']) # This line converts the string 'date' to a real datetime\n",
        "df3['DOB']= df3['DOB'].dt.date # This line strips the time data off and leave just a date"
      ],
      "metadata": {
        "id": "gn3FyCBeYz69"
      },
      "execution_count": null,
      "outputs": []
    },
    {
      "cell_type": "code",
      "source": [
        "df3.head(25)"
      ],
      "metadata": {
        "id": "iZGEQ0gVY_ab"
      },
      "execution_count": null,
      "outputs": []
    },
    {
      "cell_type": "markdown",
      "source": [
        "### Put the data in the database."
      ],
      "metadata": {
        "id": "XCfiEze3ZchC"
      }
    },
    {
      "cell_type": "code",
      "source": [
        "df3.to_sql('tmp_FAKER', dbconn, index=0, if_exists='replace')"
      ],
      "metadata": {
        "id": "bMMaE1EMZgcf"
      },
      "execution_count": null,
      "outputs": []
    },
    {
      "cell_type": "markdown",
      "source": [
        "At this point I want to save the data to the Colab instance in the folder 'DATA' which I am creating manually."
      ],
      "metadata": {
        "id": "dcUXLEvtUAgc"
      }
    },
    {
      "cell_type": "code",
      "source": [
        "outfile = '/content/DATA/faker-02.csv'\n",
        "df3.to_csv(outfile, header = True, index=False, encoding = 'utf-8-sig')"
      ],
      "metadata": {
        "id": "CtXzkvpOrqjw"
      },
      "execution_count": null,
      "outputs": []
    },
    {
      "cell_type": "markdown",
      "source": [
        "## HOLD UP!\n",
        "___\n",
        "Here I go back up to 'Start' (see TOC) and create another faker file and save it in the DATA folder.  Remember to rename the file eg. faker-01.csv to faker-02.csv\n",
        "\n",
        "NOTE: I manualy created the 'DATA' folder\n",
        "___"
      ],
      "metadata": {
        "id": "OfUTYxGLUdy-"
      }
    },
    {
      "cell_type": "markdown",
      "source": [
        "**TO CHATGPT:** <Write a Python script using pandas to combine data from multiple Excel spreadsheets located in the \"DATA\" folder.  The spreadsheets have column for \"FNAME\", \"MNAME\", \"LNAME\", \"SSN\", \"DOB\", \"OBD\", \"EMAIL\", \"SEX\", and \"LOCATION\".>"
      ],
      "metadata": {
        "id": "A7DQDz9fzsYc"
      }
    },
    {
      "cell_type": "code",
      "source": [
        "# Define the directory path where the CSV files are located\n",
        "directory = '/content/DATA/'\n",
        "\n",
        "# Initialize an empty DataFrame to store the combined data\n",
        "combined_data = pd.DataFrame()\n",
        "\n",
        "# Iterate over all files in the directory\n",
        "for filename in os.listdir(directory):\n",
        "    if filename.endswith(\".csv\"):\n",
        "        file_path = os.path.join(directory, filename)\n",
        "        df = pd.read_csv(file_path)\n",
        "        df['Source'] = filename  # Add 'Source' column with the filename\n",
        "        combined_data = combined_data.append(df, ignore_index=True)\n",
        "\n",
        "# Display the combined data\n",
        "print(combined_data)"
      ],
      "metadata": {
        "id": "1YHL9Tf2rpoY",
        "collapsed": true
      },
      "execution_count": null,
      "outputs": []
    },
    {
      "cell_type": "markdown",
      "source": [
        "Dropping these columns while I'm working with ChatGPT."
      ],
      "metadata": {
        "id": "-Vy4W4O135Do"
      }
    },
    {
      "cell_type": "code",
      "source": [
        "combined_data.drop(['AGE', 'SERVICE_TIME'], axis=1, inplace=True)"
      ],
      "metadata": {
        "id": "ihjsb1t02ilz"
      },
      "execution_count": null,
      "outputs": []
    },
    {
      "cell_type": "markdown",
      "source": [
        "**TO CHAT GPT: **<The \"DOB\" column is a date in the format YYYY-MM-DD.  Add a column to the dataframe that calculates age to nearest year>"
      ],
      "metadata": {
        "id": "wD7BcQA0wslC"
      }
    },
    {
      "cell_type": "code",
      "source": [
        "# Calculate age based on 'DOB' column\n",
        "combined_data['DOB'] = pd.to_datetime(combined_data['DOB'])  # Convert 'DOB' column to datetime\n",
        "combined_data['CALCULATED_AGE'] = (datetime.now() - combined_data['DOB']) // pd.Timedelta(days=365)  # Calculate age\n",
        "\n",
        "# Display the combined data with calculated age\n",
        "print(combined_data)"
      ],
      "metadata": {
        "id": "Srm1I2zCwZRv"
      },
      "execution_count": null,
      "outputs": []
    },
    {
      "cell_type": "code",
      "source": [
        "# combined_data.drop(['CALCULATED_OBD_AGE'], axis=1, inplace=True)"
      ],
      "metadata": {
        "id": "1p5B6WrsW1KA"
      },
      "execution_count": null,
      "outputs": []
    },
    {
      "cell_type": "code",
      "source": [
        "# Calculate SERVICE TIME based on 'OBD' column\n",
        "combined_data['OBD'] = pd.to_datetime(combined_data['OBD'])  # Convert 'OBD' column to datetime\n",
        "combined_data['SERVICE_TIME'] = (datetime.now() - combined_data['OBD']) // pd.Timedelta(days=365)  # Calculate age\n",
        "\n",
        "# Display the combined data with calculated OBD age\n",
        "print(combined_data)"
      ],
      "metadata": {
        "id": "Gkr2M-ZjS2wc"
      },
      "execution_count": null,
      "outputs": []
    },
    {
      "cell_type": "markdown",
      "source": [
        "I want the \"SOURCE\" column to be the last coumn on the right"
      ],
      "metadata": {
        "id": "Kd887r-Rsay8"
      }
    },
    {
      "cell_type": "code",
      "source": [
        "# Reorder columns and move 'Source' to the last column\n",
        "cols = list(combined_data.columns)\n",
        "cols.remove('Source')  # Remove 'Source' from current position\n",
        "cols.append('Source')  # Add 'Source' at the end\n",
        "combined_data = combined_data[cols]"
      ],
      "metadata": {
        "id": "WaUC0gvxkS-D"
      },
      "execution_count": null,
      "outputs": []
    },
    {
      "cell_type": "markdown",
      "source": [
        "## Check for the uniquness of the EMAIL address."
      ],
      "metadata": {
        "id": "WOV58D1OsmmM"
      }
    },
    {
      "cell_type": "code",
      "source": [
        "combined_data['EMAIL'].is_unique \n"
      ],
      "metadata": {
        "id": "dst7uyAxrXd-"
      },
      "execution_count": null,
      "outputs": []
    },
    {
      "cell_type": "markdown",
      "source": [
        "Check for the uniquness of the SSN."
      ],
      "metadata": {
        "id": "NGwglpQcswHk"
      }
    },
    {
      "cell_type": "code",
      "source": [
        "combined_data['SSN'].is_unique "
      ],
      "metadata": {
        "id": "caANojdjrbox"
      },
      "execution_count": null,
      "outputs": []
    },
    {
      "cell_type": "markdown",
      "source": [
        "## DELETE any people with duplicate EMAIL addresses. RIP!"
      ],
      "metadata": {
        "id": "pL7jakMfsz3R"
      }
    },
    {
      "cell_type": "code",
      "source": [
        "combined_data = combined_data.drop_duplicates(subset='EMAIL', keep=\"first\")\n",
        "combined_data.shape"
      ],
      "metadata": {
        "id": "Zq0h3qIxr52H"
      },
      "execution_count": null,
      "outputs": []
    },
    {
      "cell_type": "markdown",
      "source": [
        "### Drop and re-create the table in the database."
      ],
      "metadata": {
        "id": "MSLEWnc_dYOJ"
      }
    },
    {
      "cell_type": "code",
      "source": [
        "cursor = dbconn.cursor()\n",
        "cursor.execute('''DROP TABLE IF EXISTS tmp_FAKER''')\n",
        "dbconn.commit()"
      ],
      "metadata": {
        "id": "GhXd8n1FdPXk"
      },
      "execution_count": null,
      "outputs": []
    },
    {
      "cell_type": "markdown",
      "source": [
        "### Put the data in the database."
      ],
      "metadata": {
        "id": "0VTXoCXAdkgr"
      }
    },
    {
      "cell_type": "code",
      "source": [
        "combined_data.to_sql('tmp_FAKER', dbconn, index=0, if_exists='replace')"
      ],
      "metadata": {
        "id": "6qQUzHz4djf4"
      },
      "execution_count": null,
      "outputs": []
    }
  ]
}